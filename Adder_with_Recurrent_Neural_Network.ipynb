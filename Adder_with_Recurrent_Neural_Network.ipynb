{
 "cells": [
  {
   "cell_type": "markdown",
   "metadata": {
    "colab_type": "text",
    "id": "FwIEQ8Yulz1t"
   },
   "source": [
    "## Imports"
   ]
  },
  {
   "cell_type": "code",
   "execution_count": 1,
   "metadata": {
    "colab": {},
    "colab_type": "code",
    "id": "lJypUlixlz1v"
   },
   "outputs": [],
   "source": [
    "import pandas as pd\n",
    "import numpy as np\n",
    "import random as rd\n",
    "import matplotlib.pyplot as plt"
   ]
  },
  {
   "cell_type": "code",
   "execution_count": 2,
   "metadata": {
    "colab": {
     "base_uri": "https://localhost:8080/",
     "height": 35
    },
    "colab_type": "code",
    "id": "4ugT2g1Blz1x",
    "outputId": "e4539f2c-8207-4ae8-8b4f-5ba9f04cfc0c"
   },
   "outputs": [
    {
     "data": {
      "application/javascript": [
       "IPython.notebook.set_autosave_interval(180000)"
      ]
     },
     "metadata": {},
     "output_type": "display_data"
    },
    {
     "name": "stdout",
     "output_type": "stream",
     "text": [
      "Autosaving every 180 seconds\n"
     ]
    }
   ],
   "source": [
    "%autosave 180"
   ]
  },
  {
   "cell_type": "markdown",
   "metadata": {
    "colab_type": "text",
    "id": "7UX0ojt3lz10"
   },
   "source": [
    "## Generate the dataset"
   ]
  },
  {
   "cell_type": "code",
   "execution_count": 3,
   "metadata": {
    "colab": {
     "base_uri": "https://localhost:8080/",
     "height": 969
    },
    "colab_type": "code",
    "id": "q6nk1stYlz11",
    "outputId": "de5b5bf9-d7f3-42e5-d03e-db0de9958ec4"
   },
   "outputs": [
    {
     "data": {
      "text/html": [
       "<div>\n",
       "<style scoped>\n",
       "    .dataframe tbody tr th:only-of-type {\n",
       "        vertical-align: middle;\n",
       "    }\n",
       "\n",
       "    .dataframe tbody tr th {\n",
       "        vertical-align: top;\n",
       "    }\n",
       "\n",
       "    .dataframe thead th {\n",
       "        text-align: right;\n",
       "    }\n",
       "</style>\n",
       "<table border=\"1\" class=\"dataframe\">\n",
       "  <thead>\n",
       "    <tr style=\"text-align: right;\">\n",
       "      <th></th>\n",
       "      <th>x1</th>\n",
       "      <th>x2</th>\n",
       "      <th>x3</th>\n",
       "      <th>x4</th>\n",
       "      <th>x5</th>\n",
       "      <th>x6</th>\n",
       "      <th>x7</th>\n",
       "      <th>x8</th>\n",
       "      <th>y</th>\n",
       "    </tr>\n",
       "  </thead>\n",
       "  <tbody>\n",
       "    <tr>\n",
       "      <th>0</th>\n",
       "      <td>0</td>\n",
       "      <td>0</td>\n",
       "      <td>0</td>\n",
       "      <td>0</td>\n",
       "      <td>0</td>\n",
       "      <td>0</td>\n",
       "      <td>1</td>\n",
       "      <td>0</td>\n",
       "      <td>1</td>\n",
       "    </tr>\n",
       "    <tr>\n",
       "      <th>1</th>\n",
       "      <td>1</td>\n",
       "      <td>0</td>\n",
       "      <td>0</td>\n",
       "      <td>1</td>\n",
       "      <td>1</td>\n",
       "      <td>0</td>\n",
       "      <td>0</td>\n",
       "      <td>0</td>\n",
       "      <td>3</td>\n",
       "    </tr>\n",
       "    <tr>\n",
       "      <th>2</th>\n",
       "      <td>1</td>\n",
       "      <td>1</td>\n",
       "      <td>1</td>\n",
       "      <td>0</td>\n",
       "      <td>0</td>\n",
       "      <td>0</td>\n",
       "      <td>0</td>\n",
       "      <td>1</td>\n",
       "      <td>4</td>\n",
       "    </tr>\n",
       "    <tr>\n",
       "      <th>3</th>\n",
       "      <td>1</td>\n",
       "      <td>1</td>\n",
       "      <td>0</td>\n",
       "      <td>0</td>\n",
       "      <td>1</td>\n",
       "      <td>0</td>\n",
       "      <td>1</td>\n",
       "      <td>1</td>\n",
       "      <td>5</td>\n",
       "    </tr>\n",
       "    <tr>\n",
       "      <th>4</th>\n",
       "      <td>0</td>\n",
       "      <td>0</td>\n",
       "      <td>1</td>\n",
       "      <td>0</td>\n",
       "      <td>1</td>\n",
       "      <td>1</td>\n",
       "      <td>1</td>\n",
       "      <td>1</td>\n",
       "      <td>5</td>\n",
       "    </tr>\n",
       "    <tr>\n",
       "      <th>5</th>\n",
       "      <td>1</td>\n",
       "      <td>0</td>\n",
       "      <td>0</td>\n",
       "      <td>0</td>\n",
       "      <td>0</td>\n",
       "      <td>1</td>\n",
       "      <td>1</td>\n",
       "      <td>1</td>\n",
       "      <td>4</td>\n",
       "    </tr>\n",
       "    <tr>\n",
       "      <th>6</th>\n",
       "      <td>0</td>\n",
       "      <td>1</td>\n",
       "      <td>1</td>\n",
       "      <td>0</td>\n",
       "      <td>1</td>\n",
       "      <td>0</td>\n",
       "      <td>0</td>\n",
       "      <td>1</td>\n",
       "      <td>4</td>\n",
       "    </tr>\n",
       "    <tr>\n",
       "      <th>7</th>\n",
       "      <td>0</td>\n",
       "      <td>1</td>\n",
       "      <td>0</td>\n",
       "      <td>0</td>\n",
       "      <td>0</td>\n",
       "      <td>1</td>\n",
       "      <td>1</td>\n",
       "      <td>1</td>\n",
       "      <td>4</td>\n",
       "    </tr>\n",
       "    <tr>\n",
       "      <th>8</th>\n",
       "      <td>0</td>\n",
       "      <td>1</td>\n",
       "      <td>1</td>\n",
       "      <td>0</td>\n",
       "      <td>1</td>\n",
       "      <td>0</td>\n",
       "      <td>1</td>\n",
       "      <td>0</td>\n",
       "      <td>4</td>\n",
       "    </tr>\n",
       "    <tr>\n",
       "      <th>9</th>\n",
       "      <td>0</td>\n",
       "      <td>0</td>\n",
       "      <td>0</td>\n",
       "      <td>0</td>\n",
       "      <td>0</td>\n",
       "      <td>0</td>\n",
       "      <td>1</td>\n",
       "      <td>0</td>\n",
       "      <td>1</td>\n",
       "    </tr>\n",
       "    <tr>\n",
       "      <th>10</th>\n",
       "      <td>0</td>\n",
       "      <td>0</td>\n",
       "      <td>0</td>\n",
       "      <td>1</td>\n",
       "      <td>0</td>\n",
       "      <td>0</td>\n",
       "      <td>1</td>\n",
       "      <td>1</td>\n",
       "      <td>3</td>\n",
       "    </tr>\n",
       "    <tr>\n",
       "      <th>11</th>\n",
       "      <td>0</td>\n",
       "      <td>0</td>\n",
       "      <td>0</td>\n",
       "      <td>0</td>\n",
       "      <td>1</td>\n",
       "      <td>0</td>\n",
       "      <td>0</td>\n",
       "      <td>0</td>\n",
       "      <td>1</td>\n",
       "    </tr>\n",
       "    <tr>\n",
       "      <th>12</th>\n",
       "      <td>1</td>\n",
       "      <td>0</td>\n",
       "      <td>1</td>\n",
       "      <td>0</td>\n",
       "      <td>0</td>\n",
       "      <td>0</td>\n",
       "      <td>1</td>\n",
       "      <td>1</td>\n",
       "      <td>4</td>\n",
       "    </tr>\n",
       "    <tr>\n",
       "      <th>13</th>\n",
       "      <td>1</td>\n",
       "      <td>1</td>\n",
       "      <td>0</td>\n",
       "      <td>0</td>\n",
       "      <td>0</td>\n",
       "      <td>1</td>\n",
       "      <td>1</td>\n",
       "      <td>1</td>\n",
       "      <td>5</td>\n",
       "    </tr>\n",
       "    <tr>\n",
       "      <th>14</th>\n",
       "      <td>0</td>\n",
       "      <td>0</td>\n",
       "      <td>1</td>\n",
       "      <td>0</td>\n",
       "      <td>0</td>\n",
       "      <td>0</td>\n",
       "      <td>0</td>\n",
       "      <td>0</td>\n",
       "      <td>1</td>\n",
       "    </tr>\n",
       "    <tr>\n",
       "      <th>15</th>\n",
       "      <td>1</td>\n",
       "      <td>1</td>\n",
       "      <td>0</td>\n",
       "      <td>0</td>\n",
       "      <td>1</td>\n",
       "      <td>1</td>\n",
       "      <td>0</td>\n",
       "      <td>0</td>\n",
       "      <td>4</td>\n",
       "    </tr>\n",
       "    <tr>\n",
       "      <th>16</th>\n",
       "      <td>1</td>\n",
       "      <td>0</td>\n",
       "      <td>1</td>\n",
       "      <td>0</td>\n",
       "      <td>0</td>\n",
       "      <td>1</td>\n",
       "      <td>0</td>\n",
       "      <td>1</td>\n",
       "      <td>4</td>\n",
       "    </tr>\n",
       "    <tr>\n",
       "      <th>17</th>\n",
       "      <td>0</td>\n",
       "      <td>1</td>\n",
       "      <td>0</td>\n",
       "      <td>1</td>\n",
       "      <td>1</td>\n",
       "      <td>0</td>\n",
       "      <td>0</td>\n",
       "      <td>0</td>\n",
       "      <td>3</td>\n",
       "    </tr>\n",
       "    <tr>\n",
       "      <th>18</th>\n",
       "      <td>0</td>\n",
       "      <td>0</td>\n",
       "      <td>1</td>\n",
       "      <td>1</td>\n",
       "      <td>1</td>\n",
       "      <td>0</td>\n",
       "      <td>0</td>\n",
       "      <td>0</td>\n",
       "      <td>3</td>\n",
       "    </tr>\n",
       "    <tr>\n",
       "      <th>19</th>\n",
       "      <td>0</td>\n",
       "      <td>0</td>\n",
       "      <td>0</td>\n",
       "      <td>1</td>\n",
       "      <td>0</td>\n",
       "      <td>1</td>\n",
       "      <td>1</td>\n",
       "      <td>1</td>\n",
       "      <td>4</td>\n",
       "    </tr>\n",
       "    <tr>\n",
       "      <th>20</th>\n",
       "      <td>0</td>\n",
       "      <td>1</td>\n",
       "      <td>1</td>\n",
       "      <td>1</td>\n",
       "      <td>0</td>\n",
       "      <td>0</td>\n",
       "      <td>1</td>\n",
       "      <td>1</td>\n",
       "      <td>5</td>\n",
       "    </tr>\n",
       "    <tr>\n",
       "      <th>21</th>\n",
       "      <td>1</td>\n",
       "      <td>1</td>\n",
       "      <td>1</td>\n",
       "      <td>1</td>\n",
       "      <td>0</td>\n",
       "      <td>1</td>\n",
       "      <td>0</td>\n",
       "      <td>1</td>\n",
       "      <td>6</td>\n",
       "    </tr>\n",
       "    <tr>\n",
       "      <th>22</th>\n",
       "      <td>0</td>\n",
       "      <td>1</td>\n",
       "      <td>1</td>\n",
       "      <td>1</td>\n",
       "      <td>0</td>\n",
       "      <td>0</td>\n",
       "      <td>1</td>\n",
       "      <td>1</td>\n",
       "      <td>5</td>\n",
       "    </tr>\n",
       "    <tr>\n",
       "      <th>23</th>\n",
       "      <td>0</td>\n",
       "      <td>0</td>\n",
       "      <td>1</td>\n",
       "      <td>0</td>\n",
       "      <td>1</td>\n",
       "      <td>1</td>\n",
       "      <td>1</td>\n",
       "      <td>0</td>\n",
       "      <td>4</td>\n",
       "    </tr>\n",
       "    <tr>\n",
       "      <th>24</th>\n",
       "      <td>0</td>\n",
       "      <td>0</td>\n",
       "      <td>0</td>\n",
       "      <td>0</td>\n",
       "      <td>1</td>\n",
       "      <td>1</td>\n",
       "      <td>0</td>\n",
       "      <td>1</td>\n",
       "      <td>3</td>\n",
       "    </tr>\n",
       "    <tr>\n",
       "      <th>25</th>\n",
       "      <td>1</td>\n",
       "      <td>0</td>\n",
       "      <td>0</td>\n",
       "      <td>1</td>\n",
       "      <td>1</td>\n",
       "      <td>0</td>\n",
       "      <td>1</td>\n",
       "      <td>0</td>\n",
       "      <td>4</td>\n",
       "    </tr>\n",
       "    <tr>\n",
       "      <th>26</th>\n",
       "      <td>0</td>\n",
       "      <td>0</td>\n",
       "      <td>1</td>\n",
       "      <td>0</td>\n",
       "      <td>0</td>\n",
       "      <td>1</td>\n",
       "      <td>0</td>\n",
       "      <td>1</td>\n",
       "      <td>3</td>\n",
       "    </tr>\n",
       "    <tr>\n",
       "      <th>27</th>\n",
       "      <td>1</td>\n",
       "      <td>1</td>\n",
       "      <td>0</td>\n",
       "      <td>0</td>\n",
       "      <td>0</td>\n",
       "      <td>0</td>\n",
       "      <td>1</td>\n",
       "      <td>0</td>\n",
       "      <td>3</td>\n",
       "    </tr>\n",
       "    <tr>\n",
       "      <th>28</th>\n",
       "      <td>1</td>\n",
       "      <td>0</td>\n",
       "      <td>1</td>\n",
       "      <td>0</td>\n",
       "      <td>0</td>\n",
       "      <td>0</td>\n",
       "      <td>0</td>\n",
       "      <td>0</td>\n",
       "      <td>2</td>\n",
       "    </tr>\n",
       "    <tr>\n",
       "      <th>29</th>\n",
       "      <td>0</td>\n",
       "      <td>0</td>\n",
       "      <td>1</td>\n",
       "      <td>1</td>\n",
       "      <td>1</td>\n",
       "      <td>1</td>\n",
       "      <td>1</td>\n",
       "      <td>0</td>\n",
       "      <td>5</td>\n",
       "    </tr>\n",
       "  </tbody>\n",
       "</table>\n",
       "</div>"
      ],
      "text/plain": [
       "    x1  x2  x3  x4  x5  x6  x7  x8  y\n",
       "0    0   0   0   0   0   0   1   0  1\n",
       "1    1   0   0   1   1   0   0   0  3\n",
       "2    1   1   1   0   0   0   0   1  4\n",
       "3    1   1   0   0   1   0   1   1  5\n",
       "4    0   0   1   0   1   1   1   1  5\n",
       "5    1   0   0   0   0   1   1   1  4\n",
       "6    0   1   1   0   1   0   0   1  4\n",
       "7    0   1   0   0   0   1   1   1  4\n",
       "8    0   1   1   0   1   0   1   0  4\n",
       "9    0   0   0   0   0   0   1   0  1\n",
       "10   0   0   0   1   0   0   1   1  3\n",
       "11   0   0   0   0   1   0   0   0  1\n",
       "12   1   0   1   0   0   0   1   1  4\n",
       "13   1   1   0   0   0   1   1   1  5\n",
       "14   0   0   1   0   0   0   0   0  1\n",
       "15   1   1   0   0   1   1   0   0  4\n",
       "16   1   0   1   0   0   1   0   1  4\n",
       "17   0   1   0   1   1   0   0   0  3\n",
       "18   0   0   1   1   1   0   0   0  3\n",
       "19   0   0   0   1   0   1   1   1  4\n",
       "20   0   1   1   1   0   0   1   1  5\n",
       "21   1   1   1   1   0   1   0   1  6\n",
       "22   0   1   1   1   0   0   1   1  5\n",
       "23   0   0   1   0   1   1   1   0  4\n",
       "24   0   0   0   0   1   1   0   1  3\n",
       "25   1   0   0   1   1   0   1   0  4\n",
       "26   0   0   1   0   0   1   0   1  3\n",
       "27   1   1   0   0   0   0   1   0  3\n",
       "28   1   0   1   0   0   0   0   0  2\n",
       "29   0   0   1   1   1   1   1   0  5"
      ]
     },
     "execution_count": 3,
     "metadata": {},
     "output_type": "execute_result"
    }
   ],
   "source": [
    "df = pd.DataFrame(np.random.randint(0, 2, size=(30, 8)), columns=['x1', 'x2', 'x3', 'x4', 'x5', 'x6', 'x7', 'x8'])\n",
    "df['y'] = df.sum(axis=1)\n",
    "df"
   ]
  },
  {
   "cell_type": "markdown",
   "metadata": {
    "colab_type": "text",
    "id": "nZDuodBmlz14"
   },
   "source": [
    "## Adder with the Elman Recurrent Neural Network\n",
    "\n",
    "We'll build an Elman Recurrent Neural Network to predict the sum of 8 bits. We have one neuron that has two inputs : the input bit $x_{n}$ and the previous output $f_{t-1}$.\n",
    "\n",
    "As we want to have a linear model, the activation function will be the identity, and we don't need a bias.\n",
    "\n",
    "![](archi.png)\n",
    "img src=\"archi.png\">"
   ]
  },
  {
   "cell_type": "code",
   "execution_count": 4,
   "metadata": {
    "colab": {},
    "colab_type": "code",
    "id": "OdAKmU0Glz14"
   },
   "outputs": [],
   "source": [
    "class RNNAdder():\n",
    "    \n",
    "    def __init__(self):\n",
    "        # Our two weights initialized randomly between -1 and 1\n",
    "        self.Vx = np.random.normal(1.0, 0.5)\n",
    "        self.Vf = np.random.normal(1.0, 0.5)\n",
    "        \n",
    "        # Learning rates\n",
    "        self.lr_x = 0.001\n",
    "        self.lr_f = 0.001\n",
    "        \n",
    "        # Number of features\n",
    "        self.T = 0\n",
    "        \n",
    "        # Neuron output matrix\n",
    "        self.f = None\n",
    "        \n",
    "        # Error\n",
    "        self.err = []\n",
    "        \n",
    "        # Historic of weights\n",
    "        self.hist_Vx = [self.Vx]\n",
    "        self.hist_Vf = [self.Vf]\n",
    "        \n",
    "        # Historic of gradients\n",
    "        self.hist_dVx = []\n",
    "        self.hist_dVf = []\n",
    "    \n",
    "    def forward(self, X):\n",
    "        self.f = np.zeros((X.shape[0], X.shape[1] + 1))\n",
    "        \n",
    "        for t in range(self.T):\n",
    "            self.f[:, t + 1] = self.Vf * self.f[:, t] + self.Vx * X[:, t]\n",
    "        \n",
    "        return self.f[:, -1]\n",
    "    \n",
    "    def compute_sse(self, y_hat, y):\n",
    "        sse = 0.5 * np.sum(np.square(y_hat - y))\n",
    "        return sse\n",
    "    \n",
    "    def compute_mae(self, y_hat, y):\n",
    "        mae = np.sum(np.absolute(y_hat - y)) / y_hat.shape[0]\n",
    "        return mae\n",
    "    \n",
    "    def backward(self, X, y, y_hat):\n",
    "        dVx = 0\n",
    "        dVf = 0\n",
    "        \n",
    "        for t in range(self.T):\n",
    "            dVx += np.sum((y_hat - y) * X[:, t]) * (self.Vf ** (self.T - t))\n",
    "            dVf += np.sum((y_hat - y) * self.f[:, t - 1]) * (self.Vf ** (self.T - t))\n",
    "            \n",
    "        self.Vx -= self.lr_x * dVx\n",
    "        self.Vf -= self.lr_f * dVf\n",
    "        \n",
    "        self.hist_Vx.append(self.Vx)\n",
    "        self.hist_Vf.append(self.Vf)\n",
    "        \n",
    "        self.hist_dVx.append(dVx)\n",
    "        self.hist_dVf.append(dVf)\n",
    "        \n",
    "    def plot_hist(self):\n",
    "        plt.plot(np.arange(len(self.err)), self.err)\n",
    "        plt.title('SSE')\n",
    "        plt.show()\n",
    "        plt.plot(np.arange(len(self.hist_Vx)), self.hist_Vx, label='Vx')\n",
    "        plt.plot(np.arange(len(self.hist_Vf)), self.hist_Vf, label='Vf')\n",
    "        plt.legend()\n",
    "        plt.title('Weights')\n",
    "        plt.show()\n",
    "        plt.plot(np.arange(len(self.hist_dVx)), self.hist_dVx, label='dVx')\n",
    "        plt.plot(np.arange(len(self.hist_dVf)), self.hist_dVf, label='dVf')\n",
    "        plt.legend()\n",
    "        plt.title('Gradients')\n",
    "        plt.show()\n",
    "    \n",
    "    def fit(self, X, y, nb_epoch=50):\n",
    "        self.T = X.shape[1]\n",
    "        \n",
    "        for k in range(nb_epoch):\n",
    "            y_hat = self.forward(X)\n",
    "\n",
    "            self.err.append(self.compute_sse(y_hat, y))\n",
    "\n",
    "            self.backward(X, y, y_hat)\n",
    "            \n",
    "        self.plot_hist()\n",
    "        \n",
    "    def predict(self, X, y):\n",
    "        # Compute prediction\n",
    "        y_hat = self.forward(X)\n",
    "        \n",
    "        # Compute Mean Absolute Error\n",
    "        mae = self.compute_mae(y_hat, y)\n",
    "        \n",
    "        # Print results\n",
    "        for i in range(X.shape[0]):\n",
    "            print('Seq:', X[i], '| y =', y[i], '| y_hat =', y_hat[i])\n",
    "        print('MAE =', mae)"
   ]
  },
  {
   "cell_type": "code",
   "execution_count": 5,
   "metadata": {
    "colab": {
     "base_uri": "https://localhost:8080/",
     "height": 809
    },
    "colab_type": "code",
    "id": "LJKTyf23lz17",
    "outputId": "be3e1712-720b-4e80-b92d-6fe7cfe754a0"
   },
   "outputs": [
    {
     "name": "stderr",
     "output_type": "stream",
     "text": [
      "C:\\Users\\maxim\\Anaconda3\\lib\\site-packages\\ipykernel_launcher.py:38: RuntimeWarning: overflow encountered in square\n",
      "C:\\Users\\maxim\\Anaconda3\\lib\\site-packages\\ipykernel_launcher.py:50: RuntimeWarning: overflow encountered in double_scalars\n",
      "C:\\Users\\maxim\\Anaconda3\\lib\\site-packages\\ipykernel_launcher.py:51: RuntimeWarning: overflow encountered in multiply\n",
      "C:\\Users\\maxim\\Anaconda3\\lib\\site-packages\\ipykernel_launcher.py:50: RuntimeWarning: invalid value encountered in double_scalars\n",
      "C:\\Users\\maxim\\Anaconda3\\lib\\site-packages\\ipykernel_launcher.py:51: RuntimeWarning: overflow encountered in double_scalars\n",
      "C:\\Users\\maxim\\Anaconda3\\lib\\site-packages\\ipykernel_launcher.py:51: RuntimeWarning: invalid value encountered in double_scalars\n"
     ]
    },
    {
     "data": {
      "image/png": "[encoded data removed]",
      "text/plain": [
       "<Figure size 432x288 with 1 Axes>"
      ]
     },
     "metadata": {
      "needs_background": "light"
     },
     "output_type": "display_data"
    },
    {
     "data": {
      "image/png": "[encoded data removed]",
      "text/plain": [
       "<Figure size 432x288 with 1 Axes>"
      ]
     },
     "metadata": {
      "needs_background": "light"
     },
     "output_type": "display_data"
    },
    {
     "data": {
      "image/png": "[encoded data removed]",
      "text/plain": [
       "<Figure size 432x288 with 1 Axes>"
      ]
     },
     "metadata": {
      "needs_background": "light"
     },
     "output_type": "display_data"
    }
   ],
   "source": [
    "X, y = df.drop(columns='y').values, df['y'].values\n",
    "train_X, test_X, train_y, test_y = X[:25], X[25:], y[:25], y[25:]\n",
    "\n",
    "model = RNNAdder()\n",
    "model.fit(train_X, train_y, nb_epoch=10)"
   ]
  },
  {
   "cell_type": "code",
   "execution_count": 6,
   "metadata": {
    "colab": {
     "base_uri": "https://localhost:8080/",
     "height": 121
    },
    "colab_type": "code",
    "id": "iOlJ3PDplz19",
    "outputId": "0b42ba89-c77a-4fcf-daaa-f1416dce3e8d"
   },
   "outputs": [
    {
     "name": "stdout",
     "output_type": "stream",
     "text": [
      "Seq: [1 0 0 1 1 0 1 0] | y = 4 | y_hat = nan\n",
      "Seq: [0 0 1 0 0 1 0 1] | y = 3 | y_hat = nan\n",
      "Seq: [1 1 0 0 0 0 1 0] | y = 3 | y_hat = nan\n",
      "Seq: [1 0 1 0 0 0 0 0] | y = 2 | y_hat = nan\n",
      "Seq: [0 0 1 1 1 1 1 0] | y = 5 | y_hat = nan\n",
      "MAE = nan\n"
     ]
    }
   ],
   "source": [
    "model.predict(test_X, test_y)"
   ]
  },
  {
   "cell_type": "code",
   "execution_count": 7,
   "metadata": {
    "colab": {
     "base_uri": "https://localhost:8080/",
     "height": 72
    },
    "colab_type": "code",
    "id": "0ChdT8Jslz1_",
    "outputId": "0e118b72-ca1d-4460-bd12-5a939edcfdec"
   },
   "outputs": [
    {
     "name": "stdout",
     "output_type": "stream",
     "text": [
      "[1.2015984291749269, -19.372110859481953, -3.416208352907423e+25, nan, nan, nan, nan, nan, nan, nan]\n",
      "[1.636436968900461, -0.4388238704869196, -7.603533903541128e+16, nan, nan, nan, nan, nan, nan, nan]\n"
     ]
    }
   ],
   "source": [
    "print(model.hist_Vf[:10])\n",
    "print(model.hist_Vx[:10])"
   ]
  },
  {
   "cell_type": "code",
   "execution_count": 8,
   "metadata": {
    "colab": {
     "base_uri": "https://localhost:8080/",
     "height": 72
    },
    "colab_type": "code",
    "id": "DtNBEaPHlz2B",
    "outputId": "103ef287-e278-47f8-a8a5-cfd050aff8a5"
   },
   "outputs": [
    {
     "name": "stdout",
     "output_type": "stream",
     "text": [
      "[20573.70928865688, 3.4162083529074227e+28, nan, nan, nan, nan, nan, nan, nan, nan]\n",
      "[2075.2608393873807, 7.603533903541128e+19, nan, nan, nan, nan, nan, nan, nan, nan]\n"
     ]
    }
   ],
   "source": [
    "print(model.hist_dVf[:10])\n",
    "print(model.hist_dVx[:10])"
   ]
  },
  {
   "cell_type": "markdown",
   "metadata": {
    "colab_type": "text",
    "id": "5N2p_UCclz2D"
   },
   "source": [
    "Looking at the gradients, we can observe the exploding gradients problem. To avoid it, let's try to implement two other backpropagation algorithm.\n",
    "## Resilient backpropagation"
   ]
  },
  {
   "cell_type": "code",
   "execution_count": 9,
   "metadata": {
    "colab": {},
    "colab_type": "code",
    "id": "7F9WffXqlz2D"
   },
   "outputs": [],
   "source": [
    "class ResilientRNNAdder(RNNAdder):\n",
    "    \n",
    "    def __init__(self):\n",
    "        RNNAdder.__init__(self)\n",
    "        \n",
    "        # Delta weights\n",
    "        self.delta_x = 0.001\n",
    "        self.delta_f = 0.001\n",
    "        \n",
    "        # Learning rate limits\n",
    "        self.max_delta = 50\n",
    "        self.min_delta = 1e-6\n",
    "        \n",
    "        # Learning rate factors\n",
    "        self.eta_p = 1.2\n",
    "        self.eta_n = 0.5\n",
    "        \n",
    "    def find_lr_factor(self, grad, prev_grads):\n",
    "        # If the list is empty (first iteration)\n",
    "        if not prev_grads:\n",
    "            return 1\n",
    "        else:\n",
    "            if grad * prev_grads[-1] > 0:\n",
    "                return self.eta_p\n",
    "            else:\n",
    "                return self.eta_n\n",
    "        \n",
    "    def resilient_backward(self, X, y, y_hat):\n",
    "        dVx = 0\n",
    "        dVf = 0\n",
    "        \n",
    "        # Compute the same gradients\n",
    "        for t in range(self.T):\n",
    "            dVx += (np.sum((y_hat - y) * X[:, t]) * (self.Vf ** (self.T - t)))\n",
    "            dVf += (np.sum((y_hat - y) * self.f[:, t - 1]) * (self.Vf ** (self.T - t)))\n",
    "            \n",
    "        # Update the deltas\n",
    "        self.delta_x *= self.find_lr_factor(dVx, self.hist_dVx)\n",
    "        self.delta_f *= self.find_lr_factor(dVf, self.hist_dVf)\n",
    "        \n",
    "        # Limit deltas\n",
    "        if self.delta_x > self.max_delta:\n",
    "            self.delta_x = self.max_delta\n",
    "        elif self.delta_x < self.min_delta:\n",
    "            self.delta_x = self.min_delta\n",
    "        if self.delta_f > self.max_delta:\n",
    "            self.delta_f = self.max_delta\n",
    "        elif self.delta_f < self.min_delta:\n",
    "            self.delta_f = self.min_delta\n",
    "        \n",
    "        # Update the weights\n",
    "        self.Vx -= np.sign(dVx) * self.delta_x\n",
    "        self.Vf -= np.sign(dVf) * self.delta_f\n",
    "        \n",
    "        self.hist_Vx.append(self.Vx)\n",
    "        self.hist_Vf.append(self.Vf)\n",
    "        \n",
    "        self.hist_dVx.append(dVx)\n",
    "        self.hist_dVf.append(dVf)\n",
    "        \n",
    "    def fit(self, X, y, nb_epoch=50):\n",
    "        self.T = X.shape[1]\n",
    "        \n",
    "        for k in range(nb_epoch):\n",
    "            y_hat = self.forward(X)\n",
    "\n",
    "            self.err.append(self.compute_sse(y_hat, y))\n",
    "\n",
    "            self.resilient_backward(X, y, y_hat)\n",
    "            \n",
    "        self.plot_hist()"
   ]
  },
  {
   "cell_type": "code",
   "execution_count": 10,
   "metadata": {
    "colab": {
     "base_uri": "https://localhost:8080/",
     "height": 809
    },
    "colab_type": "code",
    "id": "6KctoAP4lz2F",
    "outputId": "aa6830c3-dc74-4b1b-e863-16d37e26d804"
   },
   "outputs": [
    {
     "data": {
      "image/png": "[encoded data removed]",
      "text/plain": [
       "<Figure size 432x288 with 1 Axes>"
      ]
     },
     "metadata": {
      "needs_background": "light"
     },
     "output_type": "display_data"
    },
    {
     "data": {
      "image/png": "[encoded data removed]",
      "text/plain": [
       "<Figure size 432x288 with 1 Axes>"
      ]
     },
     "metadata": {
      "needs_background": "light"
     },
     "output_type": "display_data"
    },
    {
     "data": {
      "image/png": "[encoded data removed]",
      "text/plain": [
       "<Figure size 432x288 with 1 Axes>"
      ]
     },
     "metadata": {
      "needs_background": "light"
     },
     "output_type": "display_data"
    }
   ],
   "source": [
    "model = ResilientRNNAdder()\n",
    "model.fit(train_X, train_y, nb_epoch=500)"
   ]
  },
  {
   "cell_type": "code",
   "execution_count": 11,
   "metadata": {
    "colab": {
     "base_uri": "https://localhost:8080/",
     "height": 72
    },
    "colab_type": "code",
    "id": "gaIxIQJXlz2H",
    "outputId": "c1c2650b-4d91-4a6f-f979-25063216e681"
   },
   "outputs": [
    {
     "name": "stdout",
     "output_type": "stream",
     "text": [
      "[1.000013046614283, 1.0000140466142828, 1.000013046614283, 1.0000140466142828, 1.000013046614283, 1.0000140466142828, 1.000013046614283, 1.0000140466142828, 1.000013046614283, 1.0000140466142828, 1.000013046614283, 1.0000140466142828, 1.000013046614283, 1.0000140466142828, 1.000013046614283]\n",
      "[0.9999542203243462, 0.9999552203243463, 0.9999542203243462, 0.9999552203243463, 0.9999542203243462, 0.9999552203243463, 0.9999542203243462, 0.9999552203243463, 0.9999542203243462, 0.9999552203243463, 0.9999542203243462, 0.9999552203243463, 0.9999542203243462, 0.9999552203243463, 0.9999542203243462]\n"
     ]
    }
   ],
   "source": [
    "print(model.hist_Vf[-15:])\n",
    "print(model.hist_Vx[-15:])"
   ]
  },
  {
   "cell_type": "markdown",
   "metadata": {
    "colab_type": "text",
    "id": "7Z5_lRvrlz2J"
   },
   "source": [
    "We can see that both gradients converge to **1**, which is a logical value to get a functionning adder.\n",
    "\n",
    "Now let's try to predict the testing set to verify the result."
   ]
  },
  {
   "cell_type": "code",
   "execution_count": 12,
   "metadata": {
    "colab": {
     "base_uri": "https://localhost:8080/",
     "height": 121
    },
    "colab_type": "code",
    "id": "8e8Dugbflz2K",
    "outputId": "14fb40a7-eba9-4e3c-fa38-d22ded5b8142"
   },
   "outputs": [
    {
     "name": "stdout",
     "output_type": "stream",
     "text": [
      "Seq: [1 0 0 1 1 0 1 0] | y = 4 | y_hat = 4.000012576658862\n",
      "Seq: [0 0 1 0 0 1 0 1] | y = 3 | y_hat = 2.9999539849644226\n",
      "Seq: [1 1 0 0 0 0 1 0] | y = 3 | y_hat = 3.0000453113387735\n",
      "Seq: [1 0 1 0 0 0 0 0] | y = 2 | y_hat = 2.000064998129347\n",
      "Seq: [0 0 1 1 1 1 1 0] | y = 5 | y_hat = 4.999966795281089\n",
      "MAE = 4.042117629419195e-05\n"
     ]
    }
   ],
   "source": [
    "model.predict(test_X, test_y)"
   ]
  },
  {
   "cell_type": "markdown",
   "metadata": {
    "colab_type": "text",
    "id": "odoCSyOXNpCn"
   },
   "source": [
    "## Gradient Cliping \n",
    "\n"
   ]
  },
  {
   "cell_type": "code",
   "execution_count": 17,
   "metadata": {
    "colab": {},
    "colab_type": "code",
    "id": "rSoqrzLdN95e"
   },
   "outputs": [],
   "source": [
    "class GradientClipping_RNNAdder(RNNAdder):\n",
    "    \n",
    "    def __init__(self):\n",
    "        RNNAdder.__init__(self)\n",
    "        \n",
    "        self.clipvalue = 0.5\n",
    "        \n",
    "    def clipping_backward(self, X, y, y_hat):\n",
    "        dVx = 0\n",
    "        dVf = 0\n",
    "        \n",
    "        # Compute the same gradients\n",
    "        for t in range(self.T):\n",
    "            dVx += (np.sum((y_hat - y) * X[:, t]) * (self.Vf ** (self.T - t)))\n",
    "            dVf += (np.sum((y_hat - y) * self.f[:, t - 1]) * (self.Vf ** (self.T - t)))\n",
    "            \n",
    "        # Clip gradients\n",
    "        if dVx > self.clipvalue:\n",
    "            dVx = self.clipvalue\n",
    "        elif dVx < -self.clipvalue:\n",
    "            dVx = -self.clipvalue\n",
    "        if dVf > self.clipvalue:\n",
    "            dVf = self.clipvalue\n",
    "        elif dVf < -self.clipvalue:\n",
    "            dVf = -self.clipvalue\n",
    "           \n",
    "        # Update the weights\n",
    "        self.Vx -= dVx * self.lr_x\n",
    "        self.Vf -= dVf * self.lr_f\n",
    "        \n",
    "        self.hist_Vx.append(self.Vx)\n",
    "        self.hist_Vf.append(self.Vf)\n",
    "        \n",
    "        self.hist_dVx.append(dVx)\n",
    "        self.hist_dVf.append(dVf)\n",
    "        \n",
    "    def fit(self, X, y, nb_epoch=50):\n",
    "        self.T = X.shape[1]\n",
    "        \n",
    "        for k in range(nb_epoch):\n",
    "            y_hat = self.forward(X)\n",
    "\n",
    "            self.err.append(self.compute_sse(y_hat, y))\n",
    "\n",
    "            self.clipping_backward(X, y, y_hat)\n",
    "            \n",
    "        self.plot_hist()"
   ]
  },
  {
   "cell_type": "code",
   "execution_count": 18,
   "metadata": {
    "colab": {
     "base_uri": "https://localhost:8080/",
     "height": 809
    },
    "colab_type": "code",
    "id": "rYGdQ_-cP9GI",
    "outputId": "649ee825-c51f-4396-fb2a-245a3c016c73"
   },
   "outputs": [
    {
     "data": {
      "image/png": "[encoded data removed]",
      "text/plain": [
       "<Figure size 432x288 with 1 Axes>"
      ]
     },
     "metadata": {
      "needs_background": "light"
     },
     "output_type": "display_data"
    },
    {
     "data": {
      "image/png": "[encoded data removed]",
      "text/plain": [
       "<Figure size 432x288 with 1 Axes>"
      ]
     },
     "metadata": {
      "needs_background": "light"
     },
     "output_type": "display_data"
    },
    {
     "data": {
      "image/png": "[encoded data removed]",
      "text/plain": [
       "<Figure size 432x288 with 1 Axes>"
      ]
     },
     "metadata": {
      "needs_background": "light"
     },
     "output_type": "display_data"
    }
   ],
   "source": [
    "model = GradientClipping_RNNAdder()\n",
    "model.fit(train_X, train_y, nb_epoch=700)"
   ]
  },
  {
   "cell_type": "code",
   "execution_count": 15,
   "metadata": {
    "colab": {
     "base_uri": "https://localhost:8080/",
     "height": 72
    },
    "colab_type": "code",
    "id": "gVOi5uZ8QvG6",
    "outputId": "460de8aa-e9e9-4e1b-e404-7bafb39f97ec"
   },
   "outputs": [
    {
     "name": "stdout",
     "output_type": "stream",
     "text": [
      "[0.9932944865028425, 0.9942944865028425, 0.9932944865028425, 0.9942944865028425, 0.9932944866958384, 0.9942944866958384, 0.9932944866958384, 0.9942944866958384, 0.9932944868907064, 0.9942944868907064, 0.9932944868907064, 0.9942944868907064, 0.9932944870413939, 0.9942944870413939, 0.9932944870413939]\n",
      "[1.0198435339100167, 1.0205462466135022, 1.0198435333513338, 1.0205462462514563, 1.0198435331176667, 1.0205462458783179, 1.019843532651889, 1.0205462455764778, 1.0198435324570794, 1.0205462452263694, 1.0198435320039834, 1.0205462449327476, 1.0198435318144776, 1.0205462446368312, 1.0198435314478536]\n"
     ]
    }
   ],
   "source": [
    "print(model.hist_Vf[-15:])\n",
    "print(model.hist_Vx[-15:])"
   ]
  },
  {
   "cell_type": "code",
   "execution_count": 16,
   "metadata": {
    "colab": {
     "base_uri": "https://localhost:8080/",
     "height": 121
    },
    "colab_type": "code",
    "id": "-qSIKoGtROqt",
    "outputId": "e41631b8-f3c4-40e8-bcce-b91fcc4a4387"
   },
   "outputs": [
    {
     "name": "stdout",
     "output_type": "stream",
     "text": [
      "Seq: [1 0 0 1 1 0 1 0] | y = 4 | y_hat = 3.9781589743319983\n",
      "Seq: [0 0 1 0 0 1 0 1] | y = 3 | y_hat = 3.012161929251614\n",
      "Seq: [1 1 0 0 0 0 1 0] | y = 3 | y_hat = 2.9654245702286595\n",
      "Seq: [1 0 1 0 0 0 0 0] | y = 2 | y_hat = 1.9590319604193256\n",
      "Seq: [0 0 1 1 1 1 1 0] | y = 5 | y_hat = 4.997551569957407\n",
      "MAE = 0.022398970862844748\n"
     ]
    }
   ],
   "source": [
    "model.predict(test_X, test_y)"
   ]
  },
  {
   "cell_type": "code",
   "execution_count": null,
   "metadata": {},
   "outputs": [],
   "source": []
  }
 ],
 "metadata": {
  "colab": {
   "name": "Adder with Recurrent Neural Network.ipynb",
   "provenance": []
  },
  "kernelspec": {
   "display_name": "Python 3",
   "language": "python",
   "name": "python3"
  },
  "language_info": {
   "codemirror_mode": {
    "name": "ipython",
    "version": 3
   },
   "file_extension": ".py",
   "mimetype": "text/x-python",
   "name": "python",
   "nbconvert_exporter": "python",
   "pygments_lexer": "ipython3",
   "version": "3.7.1"
  }
 },
 "nbformat": 4,
 "nbformat_minor": 1
}
