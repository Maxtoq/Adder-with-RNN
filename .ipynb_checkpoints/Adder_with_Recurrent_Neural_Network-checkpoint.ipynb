{
 "cells": [
  {
   "cell_type": "markdown",
   "metadata": {
    "colab_type": "text",
    "id": "FwIEQ8Yulz1t"
   },
   "source": [
    "## Imports"
   ]
  },
  {
   "cell_type": "code",
   "execution_count": 2,
   "metadata": {
    "colab": {},
    "colab_type": "code",
    "id": "lJypUlixlz1v"
   },
   "outputs": [],
   "source": [
    "import pandas as pd\n",
    "import numpy as np\n",
    "import random as rd\n",
    "import matplotlib.pyplot as plt"
   ]
  },
  {
   "cell_type": "code",
   "execution_count": 3,
   "metadata": {
    "colab": {
     "base_uri": "https://localhost:8080/",
     "height": 35
    },
    "colab_type": "code",
    "id": "4ugT2g1Blz1x",
    "outputId": "e4539f2c-8207-4ae8-8b4f-5ba9f04cfc0c"
   },
   "outputs": [
    {
     "data": {
      "application/javascript": [
       "IPython.notebook.set_autosave_interval(180000)"
      ]
     },
     "metadata": {},
     "output_type": "display_data"
    },
    {
     "name": "stdout",
     "output_type": "stream",
     "text": [
      "Autosaving every 180 seconds\n"
     ]
    }
   ],
   "source": [
    "%autosave 180"
   ]
  },
  {
   "cell_type": "markdown",
   "metadata": {
    "colab_type": "text",
    "id": "7UX0ojt3lz10"
   },
   "source": [
    "## Generate the dataset"
   ]
  },
  {
   "cell_type": "code",
   "execution_count": 4,
   "metadata": {
    "colab": {
     "base_uri": "https://localhost:8080/",
     "height": 969
    },
    "colab_type": "code",
    "id": "q6nk1stYlz11",
    "outputId": "de5b5bf9-d7f3-42e5-d03e-db0de9958ec4"
   },
   "outputs": [
    {
     "data": {
      "text/html": [
       "<div>\n",
       "<style scoped>\n",
       "    .dataframe tbody tr th:only-of-type {\n",
       "        vertical-align: middle;\n",
       "    }\n",
       "\n",
       "    .dataframe tbody tr th {\n",
       "        vertical-align: top;\n",
       "    }\n",
       "\n",
       "    .dataframe thead th {\n",
       "        text-align: right;\n",
       "    }\n",
       "</style>\n",
       "<table border=\"1\" class=\"dataframe\">\n",
       "  <thead>\n",
       "    <tr style=\"text-align: right;\">\n",
       "      <th></th>\n",
       "      <th>x1</th>\n",
       "      <th>x2</th>\n",
       "      <th>x3</th>\n",
       "      <th>x4</th>\n",
       "      <th>x5</th>\n",
       "      <th>x6</th>\n",
       "      <th>x7</th>\n",
       "      <th>x8</th>\n",
       "      <th>y</th>\n",
       "    </tr>\n",
       "  </thead>\n",
       "  <tbody>\n",
       "    <tr>\n",
       "      <th>0</th>\n",
       "      <td>1</td>\n",
       "      <td>1</td>\n",
       "      <td>0</td>\n",
       "      <td>1</td>\n",
       "      <td>1</td>\n",
       "      <td>1</td>\n",
       "      <td>0</td>\n",
       "      <td>0</td>\n",
       "      <td>5</td>\n",
       "    </tr>\n",
       "    <tr>\n",
       "      <th>1</th>\n",
       "      <td>0</td>\n",
       "      <td>1</td>\n",
       "      <td>0</td>\n",
       "      <td>0</td>\n",
       "      <td>1</td>\n",
       "      <td>1</td>\n",
       "      <td>1</td>\n",
       "      <td>1</td>\n",
       "      <td>5</td>\n",
       "    </tr>\n",
       "    <tr>\n",
       "      <th>2</th>\n",
       "      <td>1</td>\n",
       "      <td>0</td>\n",
       "      <td>1</td>\n",
       "      <td>0</td>\n",
       "      <td>0</td>\n",
       "      <td>1</td>\n",
       "      <td>0</td>\n",
       "      <td>1</td>\n",
       "      <td>4</td>\n",
       "    </tr>\n",
       "    <tr>\n",
       "      <th>3</th>\n",
       "      <td>1</td>\n",
       "      <td>1</td>\n",
       "      <td>0</td>\n",
       "      <td>1</td>\n",
       "      <td>1</td>\n",
       "      <td>1</td>\n",
       "      <td>1</td>\n",
       "      <td>1</td>\n",
       "      <td>7</td>\n",
       "    </tr>\n",
       "    <tr>\n",
       "      <th>4</th>\n",
       "      <td>0</td>\n",
       "      <td>1</td>\n",
       "      <td>0</td>\n",
       "      <td>0</td>\n",
       "      <td>1</td>\n",
       "      <td>0</td>\n",
       "      <td>1</td>\n",
       "      <td>1</td>\n",
       "      <td>4</td>\n",
       "    </tr>\n",
       "    <tr>\n",
       "      <th>5</th>\n",
       "      <td>0</td>\n",
       "      <td>0</td>\n",
       "      <td>0</td>\n",
       "      <td>1</td>\n",
       "      <td>1</td>\n",
       "      <td>1</td>\n",
       "      <td>1</td>\n",
       "      <td>0</td>\n",
       "      <td>4</td>\n",
       "    </tr>\n",
       "    <tr>\n",
       "      <th>6</th>\n",
       "      <td>0</td>\n",
       "      <td>0</td>\n",
       "      <td>0</td>\n",
       "      <td>0</td>\n",
       "      <td>1</td>\n",
       "      <td>1</td>\n",
       "      <td>0</td>\n",
       "      <td>1</td>\n",
       "      <td>3</td>\n",
       "    </tr>\n",
       "    <tr>\n",
       "      <th>7</th>\n",
       "      <td>0</td>\n",
       "      <td>0</td>\n",
       "      <td>1</td>\n",
       "      <td>0</td>\n",
       "      <td>1</td>\n",
       "      <td>0</td>\n",
       "      <td>1</td>\n",
       "      <td>0</td>\n",
       "      <td>3</td>\n",
       "    </tr>\n",
       "    <tr>\n",
       "      <th>8</th>\n",
       "      <td>1</td>\n",
       "      <td>1</td>\n",
       "      <td>0</td>\n",
       "      <td>0</td>\n",
       "      <td>0</td>\n",
       "      <td>0</td>\n",
       "      <td>0</td>\n",
       "      <td>1</td>\n",
       "      <td>3</td>\n",
       "    </tr>\n",
       "    <tr>\n",
       "      <th>9</th>\n",
       "      <td>1</td>\n",
       "      <td>0</td>\n",
       "      <td>0</td>\n",
       "      <td>0</td>\n",
       "      <td>0</td>\n",
       "      <td>1</td>\n",
       "      <td>0</td>\n",
       "      <td>0</td>\n",
       "      <td>2</td>\n",
       "    </tr>\n",
       "    <tr>\n",
       "      <th>10</th>\n",
       "      <td>1</td>\n",
       "      <td>1</td>\n",
       "      <td>1</td>\n",
       "      <td>0</td>\n",
       "      <td>1</td>\n",
       "      <td>0</td>\n",
       "      <td>0</td>\n",
       "      <td>1</td>\n",
       "      <td>5</td>\n",
       "    </tr>\n",
       "    <tr>\n",
       "      <th>11</th>\n",
       "      <td>1</td>\n",
       "      <td>0</td>\n",
       "      <td>0</td>\n",
       "      <td>0</td>\n",
       "      <td>1</td>\n",
       "      <td>0</td>\n",
       "      <td>1</td>\n",
       "      <td>0</td>\n",
       "      <td>3</td>\n",
       "    </tr>\n",
       "    <tr>\n",
       "      <th>12</th>\n",
       "      <td>1</td>\n",
       "      <td>1</td>\n",
       "      <td>0</td>\n",
       "      <td>0</td>\n",
       "      <td>1</td>\n",
       "      <td>1</td>\n",
       "      <td>1</td>\n",
       "      <td>0</td>\n",
       "      <td>5</td>\n",
       "    </tr>\n",
       "    <tr>\n",
       "      <th>13</th>\n",
       "      <td>0</td>\n",
       "      <td>1</td>\n",
       "      <td>1</td>\n",
       "      <td>0</td>\n",
       "      <td>1</td>\n",
       "      <td>0</td>\n",
       "      <td>0</td>\n",
       "      <td>1</td>\n",
       "      <td>4</td>\n",
       "    </tr>\n",
       "    <tr>\n",
       "      <th>14</th>\n",
       "      <td>0</td>\n",
       "      <td>1</td>\n",
       "      <td>1</td>\n",
       "      <td>0</td>\n",
       "      <td>0</td>\n",
       "      <td>0</td>\n",
       "      <td>1</td>\n",
       "      <td>1</td>\n",
       "      <td>4</td>\n",
       "    </tr>\n",
       "    <tr>\n",
       "      <th>15</th>\n",
       "      <td>1</td>\n",
       "      <td>1</td>\n",
       "      <td>1</td>\n",
       "      <td>1</td>\n",
       "      <td>1</td>\n",
       "      <td>0</td>\n",
       "      <td>0</td>\n",
       "      <td>1</td>\n",
       "      <td>6</td>\n",
       "    </tr>\n",
       "    <tr>\n",
       "      <th>16</th>\n",
       "      <td>0</td>\n",
       "      <td>1</td>\n",
       "      <td>0</td>\n",
       "      <td>0</td>\n",
       "      <td>1</td>\n",
       "      <td>1</td>\n",
       "      <td>1</td>\n",
       "      <td>1</td>\n",
       "      <td>5</td>\n",
       "    </tr>\n",
       "    <tr>\n",
       "      <th>17</th>\n",
       "      <td>1</td>\n",
       "      <td>1</td>\n",
       "      <td>1</td>\n",
       "      <td>1</td>\n",
       "      <td>1</td>\n",
       "      <td>0</td>\n",
       "      <td>0</td>\n",
       "      <td>0</td>\n",
       "      <td>5</td>\n",
       "    </tr>\n",
       "    <tr>\n",
       "      <th>18</th>\n",
       "      <td>0</td>\n",
       "      <td>1</td>\n",
       "      <td>0</td>\n",
       "      <td>1</td>\n",
       "      <td>1</td>\n",
       "      <td>0</td>\n",
       "      <td>1</td>\n",
       "      <td>1</td>\n",
       "      <td>5</td>\n",
       "    </tr>\n",
       "    <tr>\n",
       "      <th>19</th>\n",
       "      <td>0</td>\n",
       "      <td>0</td>\n",
       "      <td>0</td>\n",
       "      <td>1</td>\n",
       "      <td>1</td>\n",
       "      <td>0</td>\n",
       "      <td>0</td>\n",
       "      <td>0</td>\n",
       "      <td>2</td>\n",
       "    </tr>\n",
       "    <tr>\n",
       "      <th>20</th>\n",
       "      <td>0</td>\n",
       "      <td>1</td>\n",
       "      <td>0</td>\n",
       "      <td>0</td>\n",
       "      <td>0</td>\n",
       "      <td>0</td>\n",
       "      <td>1</td>\n",
       "      <td>1</td>\n",
       "      <td>3</td>\n",
       "    </tr>\n",
       "    <tr>\n",
       "      <th>21</th>\n",
       "      <td>1</td>\n",
       "      <td>0</td>\n",
       "      <td>1</td>\n",
       "      <td>1</td>\n",
       "      <td>0</td>\n",
       "      <td>1</td>\n",
       "      <td>0</td>\n",
       "      <td>1</td>\n",
       "      <td>5</td>\n",
       "    </tr>\n",
       "    <tr>\n",
       "      <th>22</th>\n",
       "      <td>0</td>\n",
       "      <td>1</td>\n",
       "      <td>1</td>\n",
       "      <td>1</td>\n",
       "      <td>0</td>\n",
       "      <td>0</td>\n",
       "      <td>0</td>\n",
       "      <td>0</td>\n",
       "      <td>3</td>\n",
       "    </tr>\n",
       "    <tr>\n",
       "      <th>23</th>\n",
       "      <td>1</td>\n",
       "      <td>1</td>\n",
       "      <td>1</td>\n",
       "      <td>0</td>\n",
       "      <td>1</td>\n",
       "      <td>0</td>\n",
       "      <td>0</td>\n",
       "      <td>1</td>\n",
       "      <td>5</td>\n",
       "    </tr>\n",
       "    <tr>\n",
       "      <th>24</th>\n",
       "      <td>1</td>\n",
       "      <td>1</td>\n",
       "      <td>1</td>\n",
       "      <td>1</td>\n",
       "      <td>0</td>\n",
       "      <td>1</td>\n",
       "      <td>1</td>\n",
       "      <td>1</td>\n",
       "      <td>7</td>\n",
       "    </tr>\n",
       "    <tr>\n",
       "      <th>25</th>\n",
       "      <td>0</td>\n",
       "      <td>1</td>\n",
       "      <td>0</td>\n",
       "      <td>1</td>\n",
       "      <td>0</td>\n",
       "      <td>1</td>\n",
       "      <td>1</td>\n",
       "      <td>1</td>\n",
       "      <td>5</td>\n",
       "    </tr>\n",
       "    <tr>\n",
       "      <th>26</th>\n",
       "      <td>1</td>\n",
       "      <td>0</td>\n",
       "      <td>0</td>\n",
       "      <td>1</td>\n",
       "      <td>0</td>\n",
       "      <td>0</td>\n",
       "      <td>0</td>\n",
       "      <td>0</td>\n",
       "      <td>2</td>\n",
       "    </tr>\n",
       "    <tr>\n",
       "      <th>27</th>\n",
       "      <td>0</td>\n",
       "      <td>0</td>\n",
       "      <td>0</td>\n",
       "      <td>1</td>\n",
       "      <td>0</td>\n",
       "      <td>0</td>\n",
       "      <td>0</td>\n",
       "      <td>0</td>\n",
       "      <td>1</td>\n",
       "    </tr>\n",
       "    <tr>\n",
       "      <th>28</th>\n",
       "      <td>0</td>\n",
       "      <td>1</td>\n",
       "      <td>1</td>\n",
       "      <td>0</td>\n",
       "      <td>0</td>\n",
       "      <td>0</td>\n",
       "      <td>1</td>\n",
       "      <td>0</td>\n",
       "      <td>3</td>\n",
       "    </tr>\n",
       "    <tr>\n",
       "      <th>29</th>\n",
       "      <td>0</td>\n",
       "      <td>1</td>\n",
       "      <td>1</td>\n",
       "      <td>1</td>\n",
       "      <td>0</td>\n",
       "      <td>1</td>\n",
       "      <td>0</td>\n",
       "      <td>1</td>\n",
       "      <td>5</td>\n",
       "    </tr>\n",
       "  </tbody>\n",
       "</table>\n",
       "</div>"
      ],
      "text/plain": [
       "    x1  x2  x3  x4  x5  x6  x7  x8  y\n",
       "0    1   1   0   1   1   1   0   0  5\n",
       "1    0   1   0   0   1   1   1   1  5\n",
       "2    1   0   1   0   0   1   0   1  4\n",
       "3    1   1   0   1   1   1   1   1  7\n",
       "4    0   1   0   0   1   0   1   1  4\n",
       "5    0   0   0   1   1   1   1   0  4\n",
       "6    0   0   0   0   1   1   0   1  3\n",
       "7    0   0   1   0   1   0   1   0  3\n",
       "8    1   1   0   0   0   0   0   1  3\n",
       "9    1   0   0   0   0   1   0   0  2\n",
       "10   1   1   1   0   1   0   0   1  5\n",
       "11   1   0   0   0   1   0   1   0  3\n",
       "12   1   1   0   0   1   1   1   0  5\n",
       "13   0   1   1   0   1   0   0   1  4\n",
       "14   0   1   1   0   0   0   1   1  4\n",
       "15   1   1   1   1   1   0   0   1  6\n",
       "16   0   1   0   0   1   1   1   1  5\n",
       "17   1   1   1   1   1   0   0   0  5\n",
       "18   0   1   0   1   1   0   1   1  5\n",
       "19   0   0   0   1   1   0   0   0  2\n",
       "20   0   1   0   0   0   0   1   1  3\n",
       "21   1   0   1   1   0   1   0   1  5\n",
       "22   0   1   1   1   0   0   0   0  3\n",
       "23   1   1   1   0   1   0   0   1  5\n",
       "24   1   1   1   1   0   1   1   1  7\n",
       "25   0   1   0   1   0   1   1   1  5\n",
       "26   1   0   0   1   0   0   0   0  2\n",
       "27   0   0   0   1   0   0   0   0  1\n",
       "28   0   1   1   0   0   0   1   0  3\n",
       "29   0   1   1   1   0   1   0   1  5"
      ]
     },
     "execution_count": 4,
     "metadata": {},
     "output_type": "execute_result"
    }
   ],
   "source": [
    "df = pd.DataFrame(np.random.randint(0, 2, size=(30, 8)), columns=['x1', 'x2', 'x3', 'x4', 'x5', 'x6', 'x7', 'x8'])\n",
    "df['y'] = df.sum(axis=1)\n",
    "df"
   ]
  },
  {
   "cell_type": "markdown",
   "metadata": {
    "colab_type": "text",
    "id": "nZDuodBmlz14"
   },
   "source": [
    "## Adder with the Elman Recurrent Neural Network\n",
    "\n",
    "We'll build an Elman Recurrent Neural Network to predict the sum of 8 bits. We have one neuron that has two inputs : the input bit $x_{n}$ and the previous output $f_{t-1}$.\n",
    "\n",
    "As we want to have a linear model, the activation function will be the identity, and we don't need a bias.\n",
    "\n",
    "<img src=\"archi.png\">"
   ]
  },
  {
   "cell_type": "code",
   "execution_count": 5,
   "metadata": {
    "colab": {},
    "colab_type": "code",
    "id": "OdAKmU0Glz14"
   },
   "outputs": [],
   "source": [
    "class RNNAdder():\n",
    "    \n",
    "    def __init__(self):\n",
    "        # Our two weights initialized randomly between -1 and 1\n",
    "        self.Vx = np.random.normal(1.0, 0.5)\n",
    "        self.Vf = np.random.normal(1.0, 0.5)\n",
    "        \n",
    "        # Learning rates\n",
    "        self.lr_x = 0.001\n",
    "        self.lr_f = 0.001\n",
    "        \n",
    "        # Number of features\n",
    "        self.T = 0\n",
    "        \n",
    "        # Neuron output matrix\n",
    "        self.f = None\n",
    "        \n",
    "        # Error\n",
    "        self.err = []\n",
    "        \n",
    "        # Historic of weights\n",
    "        self.hist_Vx = [self.Vx]\n",
    "        self.hist_Vf = [self.Vf]\n",
    "        \n",
    "        # Historic of gradients\n",
    "        self.hist_dVx = []\n",
    "        self.hist_dVf = []\n",
    "    \n",
    "    def forward(self, X):\n",
    "        self.f = np.zeros((X.shape[0], X.shape[1] + 1))\n",
    "        \n",
    "        for t in range(self.T):\n",
    "            self.f[:, t + 1] = self.Vf * self.f[:, t] + self.Vx * X[:, t]\n",
    "        \n",
    "        return self.f[:, -1]\n",
    "    \n",
    "    def compute_sse(self, y_hat, y):\n",
    "        sse = 0.5 * np.sum(np.square(y_hat - y))\n",
    "        return sse\n",
    "    \n",
    "    def compute_mae(self, y_hat, y):\n",
    "        mae = np.sum(np.absolute(y_hat - y)) / y_hat.shape[0]\n",
    "        return mae\n",
    "    \n",
    "    def backward(self, X, y, y_hat):\n",
    "        dVx = 0\n",
    "        dVf = 0\n",
    "        \n",
    "        for t in range(self.T):\n",
    "            dVx += np.sum((y_hat - y) * X[:, t]) * (self.Vf ** (self.T - t))\n",
    "            dVf += np.sum((y_hat - y) * self.f[:, t - 1]) * (self.Vf ** (self.T - t))\n",
    "            \n",
    "        self.Vx -= self.lr_x * dVx\n",
    "        self.Vf -= self.lr_f * dVf\n",
    "        \n",
    "        self.hist_Vx.append(self.Vx)\n",
    "        self.hist_Vf.append(self.Vf)\n",
    "        \n",
    "        self.hist_dVx.append(dVx)\n",
    "        self.hist_dVf.append(dVf)\n",
    "        \n",
    "    def plot_hist(self):\n",
    "        plt.plot(np.arange(len(self.err)), self.err)\n",
    "        plt.title('SSE')\n",
    "        plt.show()\n",
    "        plt.plot(np.arange(len(self.hist_Vx)), self.hist_Vx, label='Vx')\n",
    "        plt.plot(np.arange(len(self.hist_Vf)), self.hist_Vf, label='Vf')\n",
    "        plt.legend()\n",
    "        plt.title('Weights')\n",
    "        plt.show()\n",
    "        plt.plot(np.arange(len(self.hist_dVx)), self.hist_dVx, label='dVx')\n",
    "        plt.plot(np.arange(len(self.hist_dVf)), self.hist_dVf, label='dVf')\n",
    "        plt.legend()\n",
    "        plt.title('Gradients')\n",
    "        plt.show()\n",
    "    \n",
    "    def fit(self, X, y, nb_epoch=50):\n",
    "        self.T = X.shape[1]\n",
    "        \n",
    "        for k in range(nb_epoch):\n",
    "            y_hat = self.forward(X)\n",
    "\n",
    "            self.err.append(self.compute_sse(y_hat, y))\n",
    "\n",
    "            self.backward(X, y, y_hat)\n",
    "            \n",
    "        self.plot_hist()\n",
    "        \n",
    "    def predict(self, X, y):\n",
    "        # Compute prediction\n",
    "        y_hat = self.forward(X)\n",
    "        \n",
    "        # Compute Mean Absolute Error\n",
    "        mae = self.compute_mae(y_hat, y)\n",
    "        \n",
    "        # Print results\n",
    "        for i in range(X.shape[0]):\n",
    "            print('Seq:', X[i], '| y =', y[i], '| y_hat =', y_hat[i])\n",
    "        print('MAE =', mae)"
   ]
  },
  {
   "cell_type": "code",
   "execution_count": 6,
   "metadata": {
    "colab": {
     "base_uri": "https://localhost:8080/",
     "height": 809
    },
    "colab_type": "code",
    "id": "LJKTyf23lz17",
    "outputId": "be3e1712-720b-4e80-b92d-6fe7cfe754a0"
   },
   "outputs": [
    {
     "name": "stderr",
     "output_type": "stream",
     "text": [
      "C:\\Users\\maxim\\Anaconda3\\lib\\site-packages\\ipykernel_launcher.py:33: RuntimeWarning: overflow encountered in multiply\n",
      "C:\\Users\\maxim\\Anaconda3\\lib\\site-packages\\ipykernel_launcher.py:50: RuntimeWarning: invalid value encountered in multiply\n",
      "C:\\Users\\maxim\\Anaconda3\\lib\\site-packages\\ipykernel_launcher.py:50: RuntimeWarning: overflow encountered in double_scalars\n",
      "C:\\Users\\maxim\\Anaconda3\\lib\\site-packages\\ipykernel_launcher.py:51: RuntimeWarning: overflow encountered in double_scalars\n",
      "C:\\Users\\maxim\\Anaconda3\\lib\\site-packages\\numpy\\core\\fromnumeric.py:83: RuntimeWarning: invalid value encountered in reduce\n",
      "  return ufunc.reduce(obj, axis, dtype, out, **passkwargs)\n",
      "C:\\Users\\maxim\\Anaconda3\\lib\\site-packages\\ipykernel_launcher.py:51: RuntimeWarning: invalid value encountered in multiply\n"
     ]
    },
    {
     "data": {
      "image/png": "[encoded data removed]",
      "text/plain": [
       "<Figure size 432x288 with 1 Axes>"
      ]
     },
     "metadata": {
      "needs_background": "light"
     },
     "output_type": "display_data"
    },
    {
     "data": {
      "image/png": "[encoded data removed]",
      "text/plain": [
       "<Figure size 432x288 with 1 Axes>"
      ]
     },
     "metadata": {
      "needs_background": "light"
     },
     "output_type": "display_data"
    },
    {
     "data": {
      "image/png": "[encoded data removed]",
      "text/plain": [
       "<Figure size 432x288 with 1 Axes>"
      ]
     },
     "metadata": {
      "needs_background": "light"
     },
     "output_type": "display_data"
    }
   ],
   "source": [
    "X, y = df.drop(columns='y').values, df['y'].values\n",
    "train_X, test_X, train_y, test_y = X[:25], X[25:], y[:25], y[25:]\n",
    "\n",
    "model = RNNAdder()\n",
    "model.fit(train_X, train_y, nb_epoch=10)"
   ]
  },
  {
   "cell_type": "code",
   "execution_count": 7,
   "metadata": {
    "colab": {
     "base_uri": "https://localhost:8080/",
     "height": 121
    },
    "colab_type": "code",
    "id": "iOlJ3PDplz19",
    "outputId": "0b42ba89-c77a-4fcf-daaa-f1416dce3e8d"
   },
   "outputs": [
    {
     "name": "stdout",
     "output_type": "stream",
     "text": [
      "Seq: [0 1 0 1 0 1 1 1] | y = 5 | y_hat = nan\n",
      "Seq: [1 0 0 1 0 0 0 0] | y = 2 | y_hat = nan\n",
      "Seq: [0 0 0 1 0 0 0 0] | y = 1 | y_hat = nan\n",
      "Seq: [0 1 1 0 0 0 1 0] | y = 3 | y_hat = nan\n",
      "Seq: [0 1 1 1 0 1 0 1] | y = 5 | y_hat = nan\n",
      "MAE = nan\n"
     ]
    }
   ],
   "source": [
    "model.predict(test_X, test_y)"
   ]
  },
  {
   "cell_type": "code",
   "execution_count": 8,
   "metadata": {
    "colab": {
     "base_uri": "https://localhost:8080/",
     "height": 72
    },
    "colab_type": "code",
    "id": "0ChdT8Jslz1_",
    "outputId": "0e118b72-ca1d-4460-bd12-5a939edcfdec"
   },
   "outputs": [
    {
     "name": "stdout",
     "output_type": "stream",
     "text": [
      "[0.9528460445963735, 0.9513543829370209, 0.9638147901549478, 0.899999239735475, 1.1145041297404106, -3.098785015706361, -155977364.48920166, -2.992484692064882e+188, nan, nan]\n",
      "[1.1870432954697263, 1.183011699132197, 1.1824018114820465, 1.163763147168509, 1.2168592773619418, 0.4982602104941529, 114121.35974548988, 1.1674383470774145e+126, nan, nan]\n"
     ]
    }
   ],
   "source": [
    "print(model.hist_Vf[:10])\n",
    "print(model.hist_Vx[:10])"
   ]
  },
  {
   "cell_type": "code",
   "execution_count": 9,
   "metadata": {
    "colab": {
     "base_uri": "https://localhost:8080/",
     "height": 72
    },
    "colab_type": "code",
    "id": "DtNBEaPHlz2B",
    "outputId": "103ef287-e278-47f8-a8a5-cfd050aff8a5"
   },
   "outputs": [
    {
     "name": "stdout",
     "output_type": "stream",
     "text": [
      "[1.4916616593525842, -12.460407217926825, 63.81555041947273, -214.5048900049356, 4213.289145446772, 155977361390.41666, 2.9924846920648816e+191, nan, nan, nan]\n",
      "[4.031596337529272, 0.6098876501505073, 18.63866431353743, -53.09613019343278, 718.5990668677888, -114120861.48527938, -1.1674383470774144e+129, nan, nan, nan]\n"
     ]
    }
   ],
   "source": [
    "print(model.hist_dVf[:10])\n",
    "print(model.hist_dVx[:10])"
   ]
  },
  {
   "cell_type": "markdown",
   "metadata": {
    "colab_type": "text",
    "id": "5N2p_UCclz2D"
   },
   "source": [
    "Looking at the gradients, we can observe the exploding gradients problem. To avoid it, let's try to implement two other backpropagation algorithm.\n",
    "## Resilient backpropagation"
   ]
  },
  {
   "cell_type": "code",
   "execution_count": 10,
   "metadata": {
    "colab": {},
    "colab_type": "code",
    "id": "7F9WffXqlz2D"
   },
   "outputs": [],
   "source": [
    "class ResilientRNNAdder(RNNAdder):\n",
    "    \n",
    "    def __init__(self):\n",
    "        RNNAdder.__init__(self)\n",
    "        \n",
    "        # Delta weights\n",
    "        self.delta_x = 0.001\n",
    "        self.delta_f = 0.001\n",
    "        \n",
    "        # Learning rate limits\n",
    "        self.max_delta = 50\n",
    "        self.min_delta = 1e-6\n",
    "        \n",
    "        # Learning rate factors\n",
    "        self.eta_p = 1.2\n",
    "        self.eta_n = 0.5\n",
    "        \n",
    "    def find_lr_factor(self, grad, prev_grads):\n",
    "        # If the list is empty (first iteration)\n",
    "        if not prev_grads:\n",
    "            return 1\n",
    "        else:\n",
    "            if grad * prev_grads[-1] > 0:\n",
    "                return self.eta_p\n",
    "            else:\n",
    "                return self.eta_n\n",
    "        \n",
    "    def resilient_backward(self, X, y, y_hat):\n",
    "        dVx = 0\n",
    "        dVf = 0\n",
    "        \n",
    "        # Compute the same gradients\n",
    "        for t in range(self.T):\n",
    "            dVx += (np.sum((y_hat - y) * X[:, t]) * (self.Vf ** (self.T - t)))\n",
    "            dVf += (np.sum((y_hat - y) * self.f[:, t - 1]) * (self.Vf ** (self.T - t)))\n",
    "            \n",
    "        # Update the deltas\n",
    "        self.delta_x *= self.find_lr_factor(dVx, self.hist_dVx)\n",
    "        self.delta_f *= self.find_lr_factor(dVf, self.hist_dVf)\n",
    "        \n",
    "        # Limit deltas\n",
    "        if self.delta_x > self.max_delta:\n",
    "            self.delta_x = self.max_delta\n",
    "        elif self.delta_x < self.min_delta:\n",
    "            self.delta_x = self.min_delta\n",
    "        if self.delta_f > self.max_delta:\n",
    "            self.delta_f = self.max_delta\n",
    "        elif self.delta_f < self.min_delta:\n",
    "            self.delta_f = self.min_delta\n",
    "        \n",
    "        # Update the weights\n",
    "        self.Vx -= np.sign(dVx) * self.delta_x\n",
    "        self.Vf -= np.sign(dVf) * self.delta_f\n",
    "        \n",
    "        self.hist_Vx.append(self.Vx)\n",
    "        self.hist_Vf.append(self.Vf)\n",
    "        \n",
    "        self.hist_dVx.append(dVx)\n",
    "        self.hist_dVf.append(dVf)\n",
    "        \n",
    "    def fit(self, X, y, nb_epoch=50):\n",
    "        self.T = X.shape[1]\n",
    "        \n",
    "        for k in range(nb_epoch):\n",
    "            y_hat = self.forward(X)\n",
    "\n",
    "            self.err.append(self.compute_sse(y_hat, y))\n",
    "\n",
    "            self.resilient_backward(X, y, y_hat)\n",
    "            \n",
    "        self.plot_hist()"
   ]
  },
  {
   "cell_type": "code",
   "execution_count": 11,
   "metadata": {
    "colab": {
     "base_uri": "https://localhost:8080/",
     "height": 809
    },
    "colab_type": "code",
    "id": "6KctoAP4lz2F",
    "outputId": "aa6830c3-dc74-4b1b-e863-16d37e26d804"
   },
   "outputs": [
    {
     "data": {
      "image/png": "[encoded data removed]",
      "text/plain": [
       "<Figure size 432x288 with 1 Axes>"
      ]
     },
     "metadata": {
      "needs_background": "light"
     },
     "output_type": "display_data"
    },
    {
     "data": {
      "image/png": "[encoded data removed]",
      "text/plain": [
       "<Figure size 432x288 with 1 Axes>"
      ]
     },
     "metadata": {
      "needs_background": "light"
     },
     "output_type": "display_data"
    },
    {
     "data": {
      "image/png": "[encoded data removed]",
      "text/plain": [
       "<Figure size 432x288 with 1 Axes>"
      ]
     },
     "metadata": {
      "needs_background": "light"
     },
     "output_type": "display_data"
    }
   ],
   "source": [
    "model = ResilientRNNAdder()\n",
    "model.fit(train_X, train_y, nb_epoch=500)"
   ]
  },
  {
   "cell_type": "code",
   "execution_count": 12,
   "metadata": {
    "colab": {
     "base_uri": "https://localhost:8080/",
     "height": 72
    },
    "colab_type": "code",
    "id": "gaIxIQJXlz2H",
    "outputId": "c1c2650b-4d91-4a6f-f979-25063216e681"
   },
   "outputs": [
    {
     "name": "stdout",
     "output_type": "stream",
     "text": [
      "[1.0001022034897133, 1.0000992175057133, 1.0001007104977133, 1.0000997104977134, 1.0000985104977134, 1.0000970704977135, 1.0000953424977135, 1.0000932688977135, 1.0000907805777135, 1.0000920247377134, 1.0000910247377135, 1.0000898247377135, 1.0000883847377136, 1.0000866567377136, 1.0000845831377136]\n",
      "[0.9996254720309348, 0.9996317740935811, 0.9996393365687566, 0.9996484115389672, 0.9996593015032199, 0.9996538565210935, 0.9996565790121567, 0.9996598460014324, 0.9996637663885634, 0.9996684708531205, 0.9996741162105891, 0.9996808906395515, 0.9996890199543063, 0.999698775132012, 0.9996938975431592]\n"
     ]
    }
   ],
   "source": [
    "print(model.hist_Vf[-15:])\n",
    "print(model.hist_Vx[-15:])"
   ]
  },
  {
   "cell_type": "markdown",
   "metadata": {
    "colab_type": "text",
    "id": "7Z5_lRvrlz2J"
   },
   "source": [
    "We can see that both gradients converge to **1**, which is a logical value to get a functionning adder.\n",
    "\n",
    "Now let's try to predict the testing set to verify the result."
   ]
  },
  {
   "cell_type": "code",
   "execution_count": 13,
   "metadata": {
    "colab": {
     "base_uri": "https://localhost:8080/",
     "height": 121
    },
    "colab_type": "code",
    "id": "8e8Dugbflz2K",
    "outputId": "14fb40a7-eba9-4e3c-fa38-d22ded5b8142"
   },
   "outputs": [
    {
     "name": "stdout",
     "output_type": "stream",
     "text": [
      "Seq: [0 1 0 1 0 1 1 1] | y = 5 | y_hat = 4.9995688892827905\n",
      "Seq: [1 0 0 1 0 0 0 0] | y = 2 | y_hat = 2.0003181179297593\n",
      "Seq: [0 0 0 1 0 0 0 0] | y = 1 | y_hat = 1.000032169444712\n",
      "Seq: [0 1 1 0 0 0 1 0] | y = 3 | y_hat = 3.0000965584098465\n",
      "Seq: [0 1 1 1 0 1 0 1] | y = 5 | y_hat = 4.999907189796443\n",
      "MAE = 0.00019415334101688942\n"
     ]
    }
   ],
   "source": [
    "model.predict(test_X, test_y)"
   ]
  },
  {
   "cell_type": "markdown",
   "metadata": {
    "colab_type": "text",
    "id": "odoCSyOXNpCn"
   },
   "source": [
    "## Gradient Cliping \n",
    "\n"
   ]
  },
  {
   "cell_type": "code",
   "execution_count": 14,
   "metadata": {
    "colab": {},
    "colab_type": "code",
    "id": "rSoqrzLdN95e"
   },
   "outputs": [],
   "source": [
    "class GradientClipping_RNNAdder(RNNAdder):\n",
    "    \n",
    "    def __init__(self):\n",
    "        RNNAdder.__init__(self)\n",
    "        \n",
    "        # Delta weights\n",
    "        self.delta_x = 0.001\n",
    "        self.delta_f = 0.001\n",
    "        \n",
    "        self.clipvalue = 1000.0\n",
    "        \n",
    "    def clipping_backward(self, X, y, y_hat):\n",
    "        dVx = 0\n",
    "        dVf = 0\n",
    "        \n",
    "        # Compute the same gradients\n",
    "        for t in range(self.T):\n",
    "            dVx += (np.sum((y_hat - y) * X[:, t]) * (self.Vf ** (self.T - t)))\n",
    "            dVf += (np.sum((y_hat - y) * self.f[:, t - 1]) * (self.Vf ** (self.T - t)))\n",
    "            \n",
    "        # Limit deltas\n",
    "        if dVx > self.clipvalue:\n",
    "            dVx = self.clipvalue\n",
    "        elif dVx < -self.clipvalue:\n",
    "            dVx = self.clipvalue\n",
    "        if dVf > self.clipvalue:\n",
    "            dVf = self.clipvalue\n",
    "        elif dVf < -self.clipvalue:\n",
    "            dVf = self.clipvalue\n",
    "           \n",
    "        # Update the weights\n",
    "        self.Vx -= np.sign(dVx) * self.delta_x\n",
    "        self.Vf -= np.sign(dVf) * self.delta_f\n",
    "        \n",
    "        self.hist_Vx.append(self.Vx)\n",
    "        self.hist_Vf.append(self.Vf)\n",
    "        \n",
    "        self.hist_dVx.append(dVx)\n",
    "        self.hist_dVf.append(dVf)\n",
    "        \n",
    "    def fit(self, X, y, nb_epoch=50):\n",
    "        self.T = X.shape[1]\n",
    "        \n",
    "        for k in range(nb_epoch):\n",
    "            y_hat = self.forward(X)\n",
    "\n",
    "            self.err.append(self.compute_sse(y_hat, y))\n",
    "\n",
    "            self.clipping_backward(X, y, y_hat)\n",
    "            \n",
    "        self.plot_hist()"
   ]
  },
  {
   "cell_type": "code",
   "execution_count": 15,
   "metadata": {
    "colab": {
     "base_uri": "https://localhost:8080/",
     "height": 809
    },
    "colab_type": "code",
    "id": "rYGdQ_-cP9GI",
    "outputId": "649ee825-c51f-4396-fb2a-245a3c016c73"
   },
   "outputs": [
    {
     "data": {
      "image/png": "[encoded data removed]",
      "text/plain": [
       "<Figure size 432x288 with 1 Axes>"
      ]
     },
     "metadata": {
      "needs_background": "light"
     },
     "output_type": "display_data"
    },
    {
     "data": {
      "image/png": "[encoded data removed]",
      "text/plain": [
       "<Figure size 432x288 with 1 Axes>"
      ]
     },
     "metadata": {
      "needs_background": "light"
     },
     "output_type": "display_data"
    },
    {
     "data": {
      "image/png": "[encoded data removed]",
      "text/plain": [
       "<Figure size 432x288 with 1 Axes>"
      ]
     },
     "metadata": {
      "needs_background": "light"
     },
     "output_type": "display_data"
    }
   ],
   "source": [
    "model = GradientClipping_RNNAdder()\n",
    "model.fit(train_X, train_y, nb_epoch=500)"
   ]
  },
  {
   "cell_type": "code",
   "execution_count": 16,
   "metadata": {
    "colab": {
     "base_uri": "https://localhost:8080/",
     "height": 72
    },
    "colab_type": "code",
    "id": "gVOi5uZ8QvG6",
    "outputId": "460de8aa-e9e9-4e1b-e404-7bafb39f97ec"
   },
   "outputs": [
    {
     "name": "stdout",
     "output_type": "stream",
     "text": [
      "[0.8853654587457868, 0.8843654587457868, 0.8853654587457868, 0.8863654587457868, 0.8853654587457868, 0.8863654587457868, 0.8853654587457868, 0.8863654587457868, 0.8873654587457868, 0.8863654587457868, 0.8873654587457868, 0.8863654587457868, 0.8873654587457868, 0.8883654587457868, 0.8873654587457868]\n",
      "[1.499707740495484, 1.498707740495484, 1.4977077404954842, 1.4967077404954843, 1.4957077404954844, 1.4947077404954845, 1.4937077404954846, 1.4927077404954847, 1.4917077404954848, 1.490707740495485, 1.489707740495485, 1.4887077404954852, 1.4877077404954853, 1.4867077404954854, 1.4857077404954855]\n"
     ]
    }
   ],
   "source": [
    "print(model.hist_Vf[-15:])\n",
    "print(model.hist_Vx[-15:])"
   ]
  },
  {
   "cell_type": "code",
   "execution_count": 17,
   "metadata": {
    "colab": {
     "base_uri": "https://localhost:8080/",
     "height": 121
    },
    "colab_type": "code",
    "id": "-qSIKoGtROqt",
    "outputId": "e41631b8-f3c4-40e8-bcce-b91fcc4a4387"
   },
   "outputs": [
    {
     "name": "stdout",
     "output_type": "stream",
     "text": [
      "Seq: [0 1 0 1 0 1 1 1] | y = 5 | y_hat = 5.620474967576195\n",
      "Seq: [1 0 0 1 0 0 0 0] | y = 2 | y_hat = 1.564829653439583\n",
      "Seq: [0 0 0 1 0 0 0 0] | y = 1 | y_hat = 0.9211778021728944\n",
      "Seq: [0 1 1 0 0 0 1 0] | y = 3 | y_hat = 2.8611385764959114\n",
      "Seq: [0 1 1 1 0 1 0 1] | y = 5 | y_hat = 5.119530599880839\n",
      "MAE = 0.2785719070697291\n"
     ]
    }
   ],
   "source": [
    "model.predict(test_X, test_y)"
   ]
  }
 ],
 "metadata": {
  "colab": {
   "name": "Adder with Recurrent Neural Network.ipynb",
   "provenance": []
  },
  "kernelspec": {
   "display_name": "Python 3",
   "language": "python",
   "name": "python3"
  },
  "language_info": {
   "codemirror_mode": {
    "name": "ipython",
    "version": 3
   },
   "file_extension": ".py",
   "mimetype": "text/x-python",
   "name": "python",
   "nbconvert_exporter": "python",
   "pygments_lexer": "ipython3",
   "version": "3.7.1"
  }
 },
 "nbformat": 4,
 "nbformat_minor": 1
}
