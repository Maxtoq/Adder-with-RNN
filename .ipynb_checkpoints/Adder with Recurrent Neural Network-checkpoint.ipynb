{
 "cells": [
  {
   "cell_type": "markdown",
   "metadata": {},
   "source": [
    "## Imports"
   ]
  },
  {
   "cell_type": "code",
   "execution_count": 1,
   "metadata": {},
   "outputs": [],
   "source": [
    "import pandas as pd\n",
    "import numpy as np\n",
    "import random as rd\n",
    "import matplotlib.pyplot as plt"
   ]
  },
  {
   "cell_type": "code",
   "execution_count": 2,
   "metadata": {},
   "outputs": [
    {
     "data": {
      "application/javascript": [
       "IPython.notebook.set_autosave_interval(180000)"
      ]
     },
     "metadata": {},
     "output_type": "display_data"
    },
    {
     "name": "stdout",
     "output_type": "stream",
     "text": [
      "Autosaving every 180 seconds\n"
     ]
    }
   ],
   "source": [
    "%autosave 180"
   ]
  },
  {
   "cell_type": "markdown",
   "metadata": {},
   "source": [
    "## Generate the dataset"
   ]
  },
  {
   "cell_type": "code",
   "execution_count": 3,
   "metadata": {},
   "outputs": [
    {
     "data": {
      "text/html": [
       "<div>\n",
       "<style scoped>\n",
       "    .dataframe tbody tr th:only-of-type {\n",
       "        vertical-align: middle;\n",
       "    }\n",
       "\n",
       "    .dataframe tbody tr th {\n",
       "        vertical-align: top;\n",
       "    }\n",
       "\n",
       "    .dataframe thead th {\n",
       "        text-align: right;\n",
       "    }\n",
       "</style>\n",
       "<table border=\"1\" class=\"dataframe\">\n",
       "  <thead>\n",
       "    <tr style=\"text-align: right;\">\n",
       "      <th></th>\n",
       "      <th>x1</th>\n",
       "      <th>x2</th>\n",
       "      <th>x3</th>\n",
       "      <th>x4</th>\n",
       "      <th>x5</th>\n",
       "      <th>x6</th>\n",
       "      <th>x7</th>\n",
       "      <th>x8</th>\n",
       "      <th>y</th>\n",
       "    </tr>\n",
       "  </thead>\n",
       "  <tbody>\n",
       "    <tr>\n",
       "      <td>0</td>\n",
       "      <td>1</td>\n",
       "      <td>1</td>\n",
       "      <td>0</td>\n",
       "      <td>1</td>\n",
       "      <td>1</td>\n",
       "      <td>1</td>\n",
       "      <td>0</td>\n",
       "      <td>1</td>\n",
       "      <td>6</td>\n",
       "    </tr>\n",
       "    <tr>\n",
       "      <td>1</td>\n",
       "      <td>1</td>\n",
       "      <td>1</td>\n",
       "      <td>0</td>\n",
       "      <td>0</td>\n",
       "      <td>0</td>\n",
       "      <td>0</td>\n",
       "      <td>0</td>\n",
       "      <td>1</td>\n",
       "      <td>3</td>\n",
       "    </tr>\n",
       "    <tr>\n",
       "      <td>2</td>\n",
       "      <td>1</td>\n",
       "      <td>1</td>\n",
       "      <td>1</td>\n",
       "      <td>1</td>\n",
       "      <td>0</td>\n",
       "      <td>1</td>\n",
       "      <td>1</td>\n",
       "      <td>0</td>\n",
       "      <td>6</td>\n",
       "    </tr>\n",
       "    <tr>\n",
       "      <td>3</td>\n",
       "      <td>1</td>\n",
       "      <td>0</td>\n",
       "      <td>0</td>\n",
       "      <td>0</td>\n",
       "      <td>0</td>\n",
       "      <td>0</td>\n",
       "      <td>1</td>\n",
       "      <td>0</td>\n",
       "      <td>2</td>\n",
       "    </tr>\n",
       "    <tr>\n",
       "      <td>4</td>\n",
       "      <td>1</td>\n",
       "      <td>0</td>\n",
       "      <td>0</td>\n",
       "      <td>0</td>\n",
       "      <td>0</td>\n",
       "      <td>1</td>\n",
       "      <td>0</td>\n",
       "      <td>0</td>\n",
       "      <td>2</td>\n",
       "    </tr>\n",
       "    <tr>\n",
       "      <td>5</td>\n",
       "      <td>0</td>\n",
       "      <td>0</td>\n",
       "      <td>1</td>\n",
       "      <td>0</td>\n",
       "      <td>1</td>\n",
       "      <td>1</td>\n",
       "      <td>0</td>\n",
       "      <td>0</td>\n",
       "      <td>3</td>\n",
       "    </tr>\n",
       "    <tr>\n",
       "      <td>6</td>\n",
       "      <td>0</td>\n",
       "      <td>1</td>\n",
       "      <td>0</td>\n",
       "      <td>1</td>\n",
       "      <td>0</td>\n",
       "      <td>1</td>\n",
       "      <td>0</td>\n",
       "      <td>1</td>\n",
       "      <td>4</td>\n",
       "    </tr>\n",
       "    <tr>\n",
       "      <td>7</td>\n",
       "      <td>0</td>\n",
       "      <td>1</td>\n",
       "      <td>1</td>\n",
       "      <td>1</td>\n",
       "      <td>1</td>\n",
       "      <td>0</td>\n",
       "      <td>1</td>\n",
       "      <td>1</td>\n",
       "      <td>6</td>\n",
       "    </tr>\n",
       "    <tr>\n",
       "      <td>8</td>\n",
       "      <td>0</td>\n",
       "      <td>1</td>\n",
       "      <td>1</td>\n",
       "      <td>1</td>\n",
       "      <td>0</td>\n",
       "      <td>0</td>\n",
       "      <td>0</td>\n",
       "      <td>1</td>\n",
       "      <td>4</td>\n",
       "    </tr>\n",
       "    <tr>\n",
       "      <td>9</td>\n",
       "      <td>1</td>\n",
       "      <td>1</td>\n",
       "      <td>1</td>\n",
       "      <td>0</td>\n",
       "      <td>0</td>\n",
       "      <td>0</td>\n",
       "      <td>0</td>\n",
       "      <td>0</td>\n",
       "      <td>3</td>\n",
       "    </tr>\n",
       "    <tr>\n",
       "      <td>10</td>\n",
       "      <td>1</td>\n",
       "      <td>1</td>\n",
       "      <td>0</td>\n",
       "      <td>1</td>\n",
       "      <td>0</td>\n",
       "      <td>1</td>\n",
       "      <td>0</td>\n",
       "      <td>1</td>\n",
       "      <td>5</td>\n",
       "    </tr>\n",
       "    <tr>\n",
       "      <td>11</td>\n",
       "      <td>1</td>\n",
       "      <td>1</td>\n",
       "      <td>1</td>\n",
       "      <td>0</td>\n",
       "      <td>1</td>\n",
       "      <td>0</td>\n",
       "      <td>1</td>\n",
       "      <td>1</td>\n",
       "      <td>6</td>\n",
       "    </tr>\n",
       "    <tr>\n",
       "      <td>12</td>\n",
       "      <td>1</td>\n",
       "      <td>1</td>\n",
       "      <td>1</td>\n",
       "      <td>1</td>\n",
       "      <td>0</td>\n",
       "      <td>0</td>\n",
       "      <td>0</td>\n",
       "      <td>1</td>\n",
       "      <td>5</td>\n",
       "    </tr>\n",
       "    <tr>\n",
       "      <td>13</td>\n",
       "      <td>0</td>\n",
       "      <td>0</td>\n",
       "      <td>0</td>\n",
       "      <td>0</td>\n",
       "      <td>0</td>\n",
       "      <td>1</td>\n",
       "      <td>0</td>\n",
       "      <td>0</td>\n",
       "      <td>1</td>\n",
       "    </tr>\n",
       "    <tr>\n",
       "      <td>14</td>\n",
       "      <td>0</td>\n",
       "      <td>1</td>\n",
       "      <td>1</td>\n",
       "      <td>1</td>\n",
       "      <td>0</td>\n",
       "      <td>1</td>\n",
       "      <td>1</td>\n",
       "      <td>1</td>\n",
       "      <td>6</td>\n",
       "    </tr>\n",
       "    <tr>\n",
       "      <td>15</td>\n",
       "      <td>0</td>\n",
       "      <td>0</td>\n",
       "      <td>1</td>\n",
       "      <td>0</td>\n",
       "      <td>1</td>\n",
       "      <td>0</td>\n",
       "      <td>0</td>\n",
       "      <td>0</td>\n",
       "      <td>2</td>\n",
       "    </tr>\n",
       "    <tr>\n",
       "      <td>16</td>\n",
       "      <td>0</td>\n",
       "      <td>1</td>\n",
       "      <td>1</td>\n",
       "      <td>0</td>\n",
       "      <td>1</td>\n",
       "      <td>1</td>\n",
       "      <td>0</td>\n",
       "      <td>0</td>\n",
       "      <td>4</td>\n",
       "    </tr>\n",
       "    <tr>\n",
       "      <td>17</td>\n",
       "      <td>1</td>\n",
       "      <td>0</td>\n",
       "      <td>1</td>\n",
       "      <td>1</td>\n",
       "      <td>0</td>\n",
       "      <td>0</td>\n",
       "      <td>0</td>\n",
       "      <td>1</td>\n",
       "      <td>4</td>\n",
       "    </tr>\n",
       "    <tr>\n",
       "      <td>18</td>\n",
       "      <td>1</td>\n",
       "      <td>0</td>\n",
       "      <td>1</td>\n",
       "      <td>1</td>\n",
       "      <td>0</td>\n",
       "      <td>0</td>\n",
       "      <td>0</td>\n",
       "      <td>0</td>\n",
       "      <td>3</td>\n",
       "    </tr>\n",
       "    <tr>\n",
       "      <td>19</td>\n",
       "      <td>1</td>\n",
       "      <td>1</td>\n",
       "      <td>0</td>\n",
       "      <td>1</td>\n",
       "      <td>1</td>\n",
       "      <td>0</td>\n",
       "      <td>0</td>\n",
       "      <td>1</td>\n",
       "      <td>5</td>\n",
       "    </tr>\n",
       "    <tr>\n",
       "      <td>20</td>\n",
       "      <td>1</td>\n",
       "      <td>0</td>\n",
       "      <td>0</td>\n",
       "      <td>1</td>\n",
       "      <td>1</td>\n",
       "      <td>0</td>\n",
       "      <td>0</td>\n",
       "      <td>1</td>\n",
       "      <td>4</td>\n",
       "    </tr>\n",
       "    <tr>\n",
       "      <td>21</td>\n",
       "      <td>0</td>\n",
       "      <td>0</td>\n",
       "      <td>1</td>\n",
       "      <td>1</td>\n",
       "      <td>0</td>\n",
       "      <td>1</td>\n",
       "      <td>0</td>\n",
       "      <td>1</td>\n",
       "      <td>4</td>\n",
       "    </tr>\n",
       "    <tr>\n",
       "      <td>22</td>\n",
       "      <td>0</td>\n",
       "      <td>1</td>\n",
       "      <td>0</td>\n",
       "      <td>0</td>\n",
       "      <td>1</td>\n",
       "      <td>1</td>\n",
       "      <td>0</td>\n",
       "      <td>1</td>\n",
       "      <td>4</td>\n",
       "    </tr>\n",
       "    <tr>\n",
       "      <td>23</td>\n",
       "      <td>1</td>\n",
       "      <td>1</td>\n",
       "      <td>1</td>\n",
       "      <td>1</td>\n",
       "      <td>1</td>\n",
       "      <td>0</td>\n",
       "      <td>0</td>\n",
       "      <td>0</td>\n",
       "      <td>5</td>\n",
       "    </tr>\n",
       "    <tr>\n",
       "      <td>24</td>\n",
       "      <td>1</td>\n",
       "      <td>1</td>\n",
       "      <td>1</td>\n",
       "      <td>0</td>\n",
       "      <td>0</td>\n",
       "      <td>1</td>\n",
       "      <td>0</td>\n",
       "      <td>1</td>\n",
       "      <td>5</td>\n",
       "    </tr>\n",
       "    <tr>\n",
       "      <td>25</td>\n",
       "      <td>1</td>\n",
       "      <td>0</td>\n",
       "      <td>0</td>\n",
       "      <td>0</td>\n",
       "      <td>1</td>\n",
       "      <td>1</td>\n",
       "      <td>1</td>\n",
       "      <td>0</td>\n",
       "      <td>4</td>\n",
       "    </tr>\n",
       "    <tr>\n",
       "      <td>26</td>\n",
       "      <td>0</td>\n",
       "      <td>0</td>\n",
       "      <td>1</td>\n",
       "      <td>1</td>\n",
       "      <td>1</td>\n",
       "      <td>1</td>\n",
       "      <td>1</td>\n",
       "      <td>1</td>\n",
       "      <td>6</td>\n",
       "    </tr>\n",
       "    <tr>\n",
       "      <td>27</td>\n",
       "      <td>1</td>\n",
       "      <td>1</td>\n",
       "      <td>0</td>\n",
       "      <td>1</td>\n",
       "      <td>1</td>\n",
       "      <td>1</td>\n",
       "      <td>1</td>\n",
       "      <td>0</td>\n",
       "      <td>6</td>\n",
       "    </tr>\n",
       "    <tr>\n",
       "      <td>28</td>\n",
       "      <td>0</td>\n",
       "      <td>0</td>\n",
       "      <td>0</td>\n",
       "      <td>0</td>\n",
       "      <td>1</td>\n",
       "      <td>0</td>\n",
       "      <td>1</td>\n",
       "      <td>0</td>\n",
       "      <td>2</td>\n",
       "    </tr>\n",
       "    <tr>\n",
       "      <td>29</td>\n",
       "      <td>1</td>\n",
       "      <td>0</td>\n",
       "      <td>1</td>\n",
       "      <td>0</td>\n",
       "      <td>1</td>\n",
       "      <td>0</td>\n",
       "      <td>1</td>\n",
       "      <td>0</td>\n",
       "      <td>4</td>\n",
       "    </tr>\n",
       "  </tbody>\n",
       "</table>\n",
       "</div>"
      ],
      "text/plain": [
       "    x1  x2  x3  x4  x5  x6  x7  x8  y\n",
       "0    1   1   0   1   1   1   0   1  6\n",
       "1    1   1   0   0   0   0   0   1  3\n",
       "2    1   1   1   1   0   1   1   0  6\n",
       "3    1   0   0   0   0   0   1   0  2\n",
       "4    1   0   0   0   0   1   0   0  2\n",
       "5    0   0   1   0   1   1   0   0  3\n",
       "6    0   1   0   1   0   1   0   1  4\n",
       "7    0   1   1   1   1   0   1   1  6\n",
       "8    0   1   1   1   0   0   0   1  4\n",
       "9    1   1   1   0   0   0   0   0  3\n",
       "10   1   1   0   1   0   1   0   1  5\n",
       "11   1   1   1   0   1   0   1   1  6\n",
       "12   1   1   1   1   0   0   0   1  5\n",
       "13   0   0   0   0   0   1   0   0  1\n",
       "14   0   1   1   1   0   1   1   1  6\n",
       "15   0   0   1   0   1   0   0   0  2\n",
       "16   0   1   1   0   1   1   0   0  4\n",
       "17   1   0   1   1   0   0   0   1  4\n",
       "18   1   0   1   1   0   0   0   0  3\n",
       "19   1   1   0   1   1   0   0   1  5\n",
       "20   1   0   0   1   1   0   0   1  4\n",
       "21   0   0   1   1   0   1   0   1  4\n",
       "22   0   1   0   0   1   1   0   1  4\n",
       "23   1   1   1   1   1   0   0   0  5\n",
       "24   1   1   1   0   0   1   0   1  5\n",
       "25   1   0   0   0   1   1   1   0  4\n",
       "26   0   0   1   1   1   1   1   1  6\n",
       "27   1   1   0   1   1   1   1   0  6\n",
       "28   0   0   0   0   1   0   1   0  2\n",
       "29   1   0   1   0   1   0   1   0  4"
      ]
     },
     "execution_count": 3,
     "metadata": {},
     "output_type": "execute_result"
    }
   ],
   "source": [
    "df = pd.DataFrame(np.random.randint(0, 2, size=(30, 8)), columns=['x1', 'x2', 'x3', 'x4', 'x5', 'x6', 'x7', 'x8'])\n",
    "df['y'] = df.sum(axis=1)\n",
    "df"
   ]
  },
  {
   "cell_type": "markdown",
   "metadata": {},
   "source": [
    "## Adder with the Elman Recurrent Neural Network\n",
    "\n",
    "We'll build an Elman Recurrent Neural Network to predict the sum of 8 bits. We have one neuron that has two inputs : the input bit $x_{n}$ and the previous output $f_{t-1}$.\n",
    "\n",
    "As we want to have a linear model, the activation function will be the identity, and we don't need a bias.\n",
    "\n",
    "<img src=\"archi.png\">"
   ]
  },
  {
   "cell_type": "code",
   "execution_count": 4,
   "metadata": {},
   "outputs": [],
   "source": [
    "class RNNAdder():\n",
    "    \n",
    "    def __init__(self):\n",
    "        # Our two weights initialized randomly between -1 and 1\n",
    "        self.Vx = np.random.normal(1.0, 0.5)\n",
    "        self.Vf = np.random.normal(1.0, 0.5)\n",
    "        \n",
    "        # Learning rates\n",
    "        self.lr_x = 0.001\n",
    "        self.lr_f = 0.001\n",
    "        \n",
    "        # Number of features\n",
    "        self.T = 0\n",
    "        \n",
    "        # Neuron output matrix\n",
    "        self.f = None\n",
    "        \n",
    "        # Error\n",
    "        self.err = []\n",
    "        \n",
    "        # Historic of weights\n",
    "        self.hist_Vx = [self.Vx]\n",
    "        self.hist_Vf = [self.Vf]\n",
    "        \n",
    "        # Historic of gradients\n",
    "        self.hist_dVx = []\n",
    "        self.hist_dVf = []\n",
    "    \n",
    "    def forward(self, X):\n",
    "        self.f = np.zeros((X.shape[0], X.shape[1] + 1))\n",
    "        \n",
    "        for t in range(self.T):\n",
    "            self.f[:, t + 1] = self.Vf * self.f[:, t] + self.Vx * X[:, t]\n",
    "        \n",
    "        return self.f[:, -1]\n",
    "    \n",
    "    def compute_sse(self, y_hat, y):\n",
    "        sse = 0.5 * np.sum(np.square(y_hat - y))\n",
    "        return sse\n",
    "    \n",
    "    def compute_mae(self, y_hat, y):\n",
    "        mae = np.sum(np.absolute(y_hat - y)) / y_hat.shape[0]\n",
    "        return mae\n",
    "    \n",
    "    def backward(self, X, y, y_hat):\n",
    "        dVx = 0\n",
    "        dVf = 0\n",
    "        \n",
    "        for t in range(self.T):\n",
    "            dVx += np.sum((y_hat - y) * X[:, t]) * (self.Vf ** (self.T - t))\n",
    "            dVf += np.sum((y_hat - y) * self.f[:, t - 1]) * (self.Vf ** (self.T - t))\n",
    "            \n",
    "        self.Vx -= self.lr_x * dVx\n",
    "        self.Vf -= self.lr_f * dVf\n",
    "        \n",
    "        self.hist_Vx.append(self.Vx)\n",
    "        self.hist_Vf.append(self.Vf)\n",
    "        \n",
    "        self.hist_dVx.append(dVx)\n",
    "        self.hist_dVf.append(dVf)\n",
    "        \n",
    "    def plot_hist(self):\n",
    "        plt.plot(np.arange(len(self.err)), self.err)\n",
    "        plt.title('SSE')\n",
    "        plt.show()\n",
    "        plt.plot(np.arange(len(self.hist_Vx)), self.hist_Vx, label='Vx')\n",
    "        plt.plot(np.arange(len(self.hist_Vf)), self.hist_Vf, label='Vf')\n",
    "        plt.legend()\n",
    "        plt.title('Weights')\n",
    "        plt.show()\n",
    "        plt.plot(np.arange(len(self.hist_dVx)), self.hist_dVx, label='dVx')\n",
    "        plt.plot(np.arange(len(self.hist_dVf)), self.hist_dVf, label='dVf')\n",
    "        plt.legend()\n",
    "        plt.title('Gradients')\n",
    "        plt.show()\n",
    "    \n",
    "    def fit(self, X, y, nb_epoch=50):\n",
    "        self.T = X.shape[1]\n",
    "        \n",
    "        for k in range(nb_epoch):\n",
    "            y_hat = self.forward(X)\n",
    "\n",
    "            self.err.append(self.compute_sse(y_hat, y))\n",
    "\n",
    "            self.backward(X, y, y_hat)\n",
    "            \n",
    "        self.plot_hist()\n",
    "        \n",
    "    def predict(self, X, y):\n",
    "        # Compute prediction\n",
    "        y_hat = self.forward(X)\n",
    "        \n",
    "        # Compute Mean Absolute Error\n",
    "        mae = self.compute_mae(y_hat, y)\n",
    "        \n",
    "        # Print results\n",
    "        for i in range(X.shape[0]):\n",
    "            print('Seq:', X[i], '| y =', y[i], '| y_hat =', y_hat[i])\n",
    "        print('MAE =', mae)"
   ]
  },
  {
   "cell_type": "code",
   "execution_count": 5,
   "metadata": {},
   "outputs": [
    {
     "name": "stderr",
     "output_type": "stream",
     "text": [
      "c:\\users\\maxim\\appdata\\local\\programs\\python\\python37\\lib\\site-packages\\ipykernel_launcher.py:33: RuntimeWarning: overflow encountered in multiply\n",
      "c:\\users\\maxim\\appdata\\local\\programs\\python\\python37\\lib\\site-packages\\ipykernel_launcher.py:50: RuntimeWarning: invalid value encountered in multiply\n",
      "c:\\users\\maxim\\appdata\\local\\programs\\python\\python37\\lib\\site-packages\\ipykernel_launcher.py:50: RuntimeWarning: overflow encountered in double_scalars\n",
      "c:\\users\\maxim\\appdata\\local\\programs\\python\\python37\\lib\\site-packages\\ipykernel_launcher.py:51: RuntimeWarning: overflow encountered in double_scalars\n",
      "C:\\Users\\maxim\\AppData\\Roaming\\Python\\Python37\\site-packages\\numpy\\core\\fromnumeric.py:90: RuntimeWarning: invalid value encountered in reduce\n",
      "  return ufunc.reduce(obj, axis, dtype, out, **passkwargs)\n",
      "c:\\users\\maxim\\appdata\\local\\programs\\python\\python37\\lib\\site-packages\\ipykernel_launcher.py:51: RuntimeWarning: invalid value encountered in multiply\n"
     ]
    },
    {
     "data": {
      "image/png": "[encoded data removed]",
      "text/plain": [
       "<Figure size 432x288 with 1 Axes>"
      ]
     },
     "metadata": {
      "needs_background": "light"
     },
     "output_type": "display_data"
    },
    {
     "data": {
      "image/png": "[encoded data removed]",
      "text/plain": [
       "<Figure size 432x288 with 1 Axes>"
      ]
     },
     "metadata": {
      "needs_background": "light"
     },
     "output_type": "display_data"
    },
    {
     "data": {
      "image/png": "[encoded data removed]",
      "text/plain": [
       "<Figure size 432x288 with 1 Axes>"
      ]
     },
     "metadata": {
      "needs_background": "light"
     },
     "output_type": "display_data"
    }
   ],
   "source": [
    "X, y = df.drop(columns='y').values, df['y'].values\n",
    "train_X, test_X, train_y, test_y = X[:25], X[25:], y[:25], y[25:]\n",
    "\n",
    "model = RNNAdder()\n",
    "model.fit(train_X, train_y, nb_epoch=100)"
   ]
  },
  {
   "cell_type": "code",
   "execution_count": 6,
   "metadata": {},
   "outputs": [
    {
     "name": "stdout",
     "output_type": "stream",
     "text": [
      "Seq: [1 0 0 1 0 0 0 1] | y = 3 | y_hat = -0.9152799250078147\n",
      "Seq: [1 1 1 1 1 0 0 0] | y = 5 | y_hat = 0.04016924340635682\n",
      "Seq: [0 0 1 0 0 1 0 1] | y = 3 | y_hat = -1.0262069333431918\n",
      "Seq: [1 0 1 0 0 0 1 0] | y = 3 | y_hat = 0.3643043082570074\n",
      "Seq: [0 0 0 1 0 0 1 0] | y = 2 | y_hat = 0.33224522812669194\n",
      "MAE = 3.44095361571219\n"
     ]
    }
   ],
   "source": [
    "model.predict(test_X, test_y)"
   ]
  },
  {
   "cell_type": "code",
   "execution_count": 7,
   "metadata": {},
   "outputs": [
    {
     "name": "stdout",
     "output_type": "stream",
     "text": [
      "[1.071308953538256, -0.9386186249187713, -0.6637084654699852, -0.6312448677143289, -0.6092344388787101, -0.5930083482970206, -0.5804627374573719, -0.5704576859272683, -0.5623036152818934, -0.5555511482919976]\n",
      "[1.2046573520102126, 0.808242429381481, 0.8712144129238949, 0.8611466127539488, 0.8493225947620637, 0.8365906318922346, 0.8233028907680469, 0.8096371068322485, 0.7956938904761017, 0.7815346976783487]\n"
     ]
    }
   ],
   "source": [
    "print(model.hist_Vf[:10])\n",
    "print(model.hist_Vx[:10])"
   ]
  },
  {
   "cell_type": "code",
   "execution_count": 8,
   "metadata": {},
   "outputs": [
    {
     "name": "stdout",
     "output_type": "stream",
     "text": [
      "[2009.9275784570273, -274.9101594487862, -32.463597755656366, -22.01042883561874, -16.226090581689427, -12.545610839648726, -10.00505153010354, -8.154070645374876, -6.7524669898958685, -5.659951615607445]\n",
      "[396.4149226287316, -62.97198354241384, 10.067800169946153, 11.824017991885, 12.731962869829161, 13.287741124187704, 13.665783935798324, 13.943216356146841, 14.159192797753015, 14.335546462017923]\n"
     ]
    }
   ],
   "source": [
    "print(model.hist_dVf[:10])\n",
    "print(model.hist_dVx[:10])"
   ]
  },
  {
   "cell_type": "markdown",
   "metadata": {},
   "source": [
    "Looking at the gradients, we can observe the exploding gradients problem. To avoid it, let's try to implement two other backpropagation algorithm.\n",
    "## Resilient backpropagation"
   ]
  },
  {
   "cell_type": "code",
   "execution_count": 19,
   "metadata": {},
   "outputs": [],
   "source": [
    "class ResilientRNNAdder(RNNAdder):\n",
    "    \n",
    "    def __init__(self):\n",
    "        RNNAdder.__init__(self)\n",
    "        \n",
    "        # Delta weights\n",
    "        self.delta_x = 0.001\n",
    "        self.delta_f = 0.001\n",
    "        \n",
    "        # Learning rate limits\n",
    "        self.max_delta = 50\n",
    "        self.min_delta = 1e-6\n",
    "        \n",
    "        # Learning rate factors\n",
    "        self.eta_p = 1.2\n",
    "        self.eta_n = 0.5\n",
    "        \n",
    "    def find_lr_factor(self, grad, prev_grads):\n",
    "        # If the list is empty (first iteration)\n",
    "        if not prev_grads:\n",
    "            return 1\n",
    "        else:\n",
    "            if grad * prev_grads[-1] > 0:\n",
    "                return self.eta_p\n",
    "            else:\n",
    "                return self.eta_n\n",
    "        \n",
    "    def resilient_backward(self, X, y, y_hat):\n",
    "        dVx = 0\n",
    "        dVf = 0\n",
    "        \n",
    "        # Compute the same gradients\n",
    "        for t in range(self.T):\n",
    "            dVx += (np.sum((y_hat - y) * X[:, t]) * (self.Vf ** (self.T - t)))\n",
    "            dVf += (np.sum((y_hat - y) * self.f[:, t - 1]) * (self.Vf ** (self.T - t)))\n",
    "            \n",
    "        # Update the deltas\n",
    "        self.delta_x *= self.find_lr_factor(dVx, self.hist_dVx)\n",
    "        self.delta_f *= self.find_lr_factor(dVf, self.hist_dVf)\n",
    "        \n",
    "        # Limit deltas\n",
    "        if self.delta_x > self.max_delta:\n",
    "            self.delta_x = self.max_delta\n",
    "        elif self.delta_x < self.min_delta:\n",
    "            self.delta_x = self.min_delta\n",
    "        if self.delta_f > self.max_delta:\n",
    "            self.delta_f = self.max_delta\n",
    "        elif self.delta_f < self.min_delta:\n",
    "            self.delta_f = self.min_delta\n",
    "        \n",
    "        # Update the weights\n",
    "        self.Vx -= np.sign(dVx) * self.delta_x\n",
    "        self.Vf -= np.sign(dVf) * self.delta_f\n",
    "        \n",
    "        self.hist_Vx.append(self.Vx)\n",
    "        self.hist_Vf.append(self.Vf)\n",
    "        \n",
    "        self.hist_dVx.append(dVx)\n",
    "        self.hist_dVf.append(dVf)\n",
    "        \n",
    "    def fit(self, X, y, nb_epoch=50):\n",
    "        self.T = X.shape[1]\n",
    "        \n",
    "        for k in range(nb_epoch):\n",
    "            y_hat = self.forward(X)\n",
    "\n",
    "            self.err.append(self.compute_sse(y_hat, y))\n",
    "\n",
    "            self.resilient_backward(X, y, y_hat)\n",
    "            \n",
    "        self.plot_hist()"
   ]
  },
  {
   "cell_type": "code",
   "execution_count": 29,
   "metadata": {},
   "outputs": [
    {
     "data": {
      "image/png": "[encoded data removed]",
      "text/plain": [
       "<Figure size 432x288 with 1 Axes>"
      ]
     },
     "metadata": {
      "needs_background": "light"
     },
     "output_type": "display_data"
    },
    {
     "data": {
      "image/png": "[encoded data removed]",
      "text/plain": [
       "<Figure size 432x288 with 1 Axes>"
      ]
     },
     "metadata": {
      "needs_background": "light"
     },
     "output_type": "display_data"
    },
    {
     "data": {
      "image/png": "[encoded data removed]",
      "text/plain": [
       "<Figure size 432x288 with 1 Axes>"
      ]
     },
     "metadata": {
      "needs_background": "light"
     },
     "output_type": "display_data"
    }
   ],
   "source": [
    "model = ResilientRNNAdder()\n",
    "model.fit(train_X, train_y, nb_epoch=500)"
   ]
  },
  {
   "cell_type": "code",
   "execution_count": 30,
   "metadata": {},
   "outputs": [
    {
     "name": "stdout",
     "output_type": "stream",
     "text": [
      "[1.0006825572301221, 1.0006799313706862, 1.000676780339363, 1.0006729991017753, 1.0006684616166701, 1.0006630166345438, 1.0006564826559923, 1.0006486418817304, 1.0006392329526161, 1.0006439374171734, 1.0006415851848949, 1.0006387625061606, 1.0006353752916795, 1.000631310634302, 1.0006264330454493]\n",
      "[0.9976282378188361, 0.9976645376996784, 0.9976463877592573, 0.9976554627294679, 0.9976663526937206, 0.9976794206508238, 0.9976951021993476, 0.9977139200575763, 0.9977365014874507, 0.9977635992033, 0.9977961164623191, 0.9977798578328095, 0.9977879871475643, 0.9977977423252701, 0.9978094485385169]\n"
     ]
    }
   ],
   "source": [
    "print(model.hist_Vf[-15:])\n",
    "print(model.hist_Vx[-15:])"
   ]
  },
  {
   "cell_type": "markdown",
   "metadata": {},
   "source": [
    "We can see that both gradients converge to **1**, which is a logical value to get a functionning adder.\n",
    "\n",
    "Now let's try to predict the testing set to verify the result."
   ]
  },
  {
   "cell_type": "code",
   "execution_count": 31,
   "metadata": {},
   "outputs": [
    {
     "name": "stdout",
     "output_type": "stream",
     "text": [
      "Seq: [1 0 0 1 0 0 0 1] | y = 3 | y_hat = 3.0003145962012905\n",
      "Seq: [1 1 1 1 1 0 0 0] | y = 5 | y_hat = 5.004695315892947\n",
      "Seq: [0 0 1 0 0 1 0 1] | y = 3 | y_hat = 2.997808080896781\n",
      "Seq: [1 0 1 0 0 0 1 0] | y = 3 | y_hat = 3.0015662855318603\n",
      "Seq: [0 0 0 1 0 0 1 0] | y = 2 | y_hat = 1.998746551468946\n",
      "MAE = 0.002004313052074247\n"
     ]
    }
   ],
   "source": [
    "model.predict(test_X, test_y)"
   ]
  },
  {
   "cell_type": "markdown",
   "metadata": {},
   "source": [
    "## Gradient Clipping"
   ]
  },
  {
   "cell_type": "code",
   "execution_count": 52,
   "metadata": {},
   "outputs": [],
   "source": [
    "class ClippingRNNAdder(RNNAdder):\n",
    "    \n",
    "    def __init__(self):\n",
    "        RNNAdder.__init__(self)\n",
    "        \n",
    "        # Gradient threshold\n",
    "        self.thresh = 2.0\n",
    "    \n",
    "    def clip_grad(self, grad):\n",
    "        if grad > self.thresh or np.isnan(grad):\n",
    "            return self.thresh\n",
    "        elif grad < -self.thresh:\n",
    "            return -self.thresh\n",
    "        else:\n",
    "            return grad\n",
    "        \n",
    "    def clipping_backward(self, X, y, y_hat):\n",
    "        dVx = 0\n",
    "        dVf = 0\n",
    "        \n",
    "        # Compute the same gradients\n",
    "        for t in range(self.T):\n",
    "            dVx += (np.sum((y_hat - y) * X[:, t]) * (self.Vf ** (self.T - t)))\n",
    "            dVf += (np.sum((y_hat - y) * self.f[:, t - 1]) * (self.Vf ** (self.T - t)))\n",
    "        \n",
    "        # Clip the gradients\n",
    "        #print(dVx)\n",
    "        dVx = self.clip_grad(dVx)\n",
    "        #print(dVx)\n",
    "        dVx = self.clip_grad(dVf)\n",
    "        \n",
    "        # Update the weights\n",
    "        self.Vx -= self.lr_x * dVx\n",
    "        self.Vf -= self.lr_f * dVf\n",
    "        \n",
    "        self.hist_Vx.append(self.Vx)\n",
    "        self.hist_Vf.append(self.Vf)\n",
    "        \n",
    "        self.hist_dVx.append(dVx)\n",
    "        self.hist_dVf.append(dVf)\n",
    "        \n",
    "    def fit(self, X, y, nb_epoch=50):\n",
    "        self.T = X.shape[1]\n",
    "        \n",
    "        for k in range(nb_epoch):\n",
    "            y_hat = self.forward(X)\n",
    "\n",
    "            self.err.append(self.compute_sse(y_hat, y))\n",
    "\n",
    "            self.clipping_backward(X, y, y_hat)\n",
    "            \n",
    "        self.plot_hist()"
   ]
  },
  {
   "cell_type": "code",
   "execution_count": 63,
   "metadata": {},
   "outputs": [
    {
     "data": {
      "image/png": "[encoded data removed]",
      "text/plain": [
       "<Figure size 432x288 with 1 Axes>"
      ]
     },
     "metadata": {
      "needs_background": "light"
     },
     "output_type": "display_data"
    },
    {
     "data": {
      "image/png": "[encoded data removed]",
      "text/plain": [
       "<Figure size 432x288 with 1 Axes>"
      ]
     },
     "metadata": {
      "needs_background": "light"
     },
     "output_type": "display_data"
    },
    {
     "data": {
      "image/png": "[encoded data removed]",
      "text/plain": [
       "<Figure size 432x288 with 1 Axes>"
      ]
     },
     "metadata": {
      "needs_background": "light"
     },
     "output_type": "display_data"
    }
   ],
   "source": [
    "model = ClippingRNNAdder()\n",
    "model.fit(train_X, train_y, nb_epoch=50)"
   ]
  },
  {
   "cell_type": "code",
   "execution_count": 64,
   "metadata": {},
   "outputs": [
    {
     "name": "stdout",
     "output_type": "stream",
     "text": [
      "Seq: [1 0 0 0 1 1 1 0] | y = 4 | y_hat = -0.07652946939686943\n",
      "Seq: [0 0 1 1 1 1 1 1] | y = 6 | y_hat = 0.14866840029049896\n",
      "Seq: [1 1 0 1 1 1 1 0] | y = 6 | y_hat = -0.06473959993237743\n",
      "Seq: [0 0 0 0 1 0 1 0] | y = 2 | y_hat = -0.12176297369205134\n",
      "Seq: [1 0 1 0 1 0 1 0] | y = 4 | y_hat = -0.12717683235445135\n",
      "MAE = 4.448308095017049\n"
     ]
    }
   ],
   "source": [
    "model.predict(test_X, test_y)"
   ]
  }
 ],
 "metadata": {
  "kernelspec": {
   "display_name": "Python 3",
   "language": "python",
   "name": "python3"
  },
  "language_info": {
   "codemirror_mode": {
    "name": "ipython",
    "version": 3
   },
   "file_extension": ".py",
   "mimetype": "text/x-python",
   "name": "python",
   "nbconvert_exporter": "python",
   "pygments_lexer": "ipython3",
   "version": "3.7.4"
  }
 },
 "nbformat": 4,
 "nbformat_minor": 2
}
