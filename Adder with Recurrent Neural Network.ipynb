{
 "cells": [
  {
   "cell_type": "markdown",
   "metadata": {},
   "source": [
    "## Imports"
   ]
  },
  {
   "cell_type": "code",
   "execution_count": 20,
   "metadata": {},
   "outputs": [],
   "source": [
    "import pandas as pd\n",
    "import numpy as np\n",
    "import random as rd\n",
    "import matplotlib.pyplot as plt"
   ]
  },
  {
   "cell_type": "code",
   "execution_count": 3,
   "metadata": {},
   "outputs": [
    {
     "data": {
      "application/javascript": [
       "IPython.notebook.set_autosave_interval(180000)"
      ]
     },
     "metadata": {},
     "output_type": "display_data"
    },
    {
     "name": "stdout",
     "output_type": "stream",
     "text": [
      "Autosaving every 180 seconds\n"
     ]
    }
   ],
   "source": [
    "%autosave 180"
   ]
  },
  {
   "cell_type": "markdown",
   "metadata": {},
   "source": [
    "## Generate the dataset"
   ]
  },
  {
   "cell_type": "code",
   "execution_count": 4,
   "metadata": {},
   "outputs": [
    {
     "data": {
      "text/html": [
       "<div>\n",
       "<style scoped>\n",
       "    .dataframe tbody tr th:only-of-type {\n",
       "        vertical-align: middle;\n",
       "    }\n",
       "\n",
       "    .dataframe tbody tr th {\n",
       "        vertical-align: top;\n",
       "    }\n",
       "\n",
       "    .dataframe thead th {\n",
       "        text-align: right;\n",
       "    }\n",
       "</style>\n",
       "<table border=\"1\" class=\"dataframe\">\n",
       "  <thead>\n",
       "    <tr style=\"text-align: right;\">\n",
       "      <th></th>\n",
       "      <th>x1</th>\n",
       "      <th>x2</th>\n",
       "      <th>x3</th>\n",
       "      <th>x4</th>\n",
       "      <th>x5</th>\n",
       "      <th>x6</th>\n",
       "      <th>x7</th>\n",
       "      <th>x8</th>\n",
       "      <th>y</th>\n",
       "    </tr>\n",
       "  </thead>\n",
       "  <tbody>\n",
       "    <tr>\n",
       "      <td>0</td>\n",
       "      <td>1</td>\n",
       "      <td>1</td>\n",
       "      <td>1</td>\n",
       "      <td>0</td>\n",
       "      <td>0</td>\n",
       "      <td>0</td>\n",
       "      <td>1</td>\n",
       "      <td>0</td>\n",
       "      <td>4</td>\n",
       "    </tr>\n",
       "    <tr>\n",
       "      <td>1</td>\n",
       "      <td>0</td>\n",
       "      <td>0</td>\n",
       "      <td>1</td>\n",
       "      <td>0</td>\n",
       "      <td>0</td>\n",
       "      <td>1</td>\n",
       "      <td>1</td>\n",
       "      <td>0</td>\n",
       "      <td>3</td>\n",
       "    </tr>\n",
       "    <tr>\n",
       "      <td>2</td>\n",
       "      <td>0</td>\n",
       "      <td>0</td>\n",
       "      <td>0</td>\n",
       "      <td>0</td>\n",
       "      <td>0</td>\n",
       "      <td>0</td>\n",
       "      <td>1</td>\n",
       "      <td>0</td>\n",
       "      <td>1</td>\n",
       "    </tr>\n",
       "    <tr>\n",
       "      <td>3</td>\n",
       "      <td>0</td>\n",
       "      <td>1</td>\n",
       "      <td>0</td>\n",
       "      <td>1</td>\n",
       "      <td>1</td>\n",
       "      <td>0</td>\n",
       "      <td>0</td>\n",
       "      <td>1</td>\n",
       "      <td>4</td>\n",
       "    </tr>\n",
       "    <tr>\n",
       "      <td>4</td>\n",
       "      <td>0</td>\n",
       "      <td>1</td>\n",
       "      <td>0</td>\n",
       "      <td>0</td>\n",
       "      <td>0</td>\n",
       "      <td>0</td>\n",
       "      <td>1</td>\n",
       "      <td>0</td>\n",
       "      <td>2</td>\n",
       "    </tr>\n",
       "    <tr>\n",
       "      <td>5</td>\n",
       "      <td>0</td>\n",
       "      <td>0</td>\n",
       "      <td>1</td>\n",
       "      <td>1</td>\n",
       "      <td>0</td>\n",
       "      <td>0</td>\n",
       "      <td>0</td>\n",
       "      <td>1</td>\n",
       "      <td>3</td>\n",
       "    </tr>\n",
       "    <tr>\n",
       "      <td>6</td>\n",
       "      <td>0</td>\n",
       "      <td>1</td>\n",
       "      <td>1</td>\n",
       "      <td>1</td>\n",
       "      <td>0</td>\n",
       "      <td>0</td>\n",
       "      <td>1</td>\n",
       "      <td>0</td>\n",
       "      <td>4</td>\n",
       "    </tr>\n",
       "    <tr>\n",
       "      <td>7</td>\n",
       "      <td>0</td>\n",
       "      <td>1</td>\n",
       "      <td>0</td>\n",
       "      <td>1</td>\n",
       "      <td>0</td>\n",
       "      <td>1</td>\n",
       "      <td>0</td>\n",
       "      <td>0</td>\n",
       "      <td>3</td>\n",
       "    </tr>\n",
       "    <tr>\n",
       "      <td>8</td>\n",
       "      <td>0</td>\n",
       "      <td>0</td>\n",
       "      <td>1</td>\n",
       "      <td>1</td>\n",
       "      <td>0</td>\n",
       "      <td>0</td>\n",
       "      <td>1</td>\n",
       "      <td>1</td>\n",
       "      <td>4</td>\n",
       "    </tr>\n",
       "    <tr>\n",
       "      <td>9</td>\n",
       "      <td>1</td>\n",
       "      <td>0</td>\n",
       "      <td>1</td>\n",
       "      <td>1</td>\n",
       "      <td>0</td>\n",
       "      <td>1</td>\n",
       "      <td>1</td>\n",
       "      <td>0</td>\n",
       "      <td>5</td>\n",
       "    </tr>\n",
       "    <tr>\n",
       "      <td>10</td>\n",
       "      <td>0</td>\n",
       "      <td>1</td>\n",
       "      <td>1</td>\n",
       "      <td>0</td>\n",
       "      <td>0</td>\n",
       "      <td>1</td>\n",
       "      <td>0</td>\n",
       "      <td>0</td>\n",
       "      <td>3</td>\n",
       "    </tr>\n",
       "    <tr>\n",
       "      <td>11</td>\n",
       "      <td>0</td>\n",
       "      <td>0</td>\n",
       "      <td>0</td>\n",
       "      <td>0</td>\n",
       "      <td>0</td>\n",
       "      <td>1</td>\n",
       "      <td>0</td>\n",
       "      <td>0</td>\n",
       "      <td>1</td>\n",
       "    </tr>\n",
       "    <tr>\n",
       "      <td>12</td>\n",
       "      <td>1</td>\n",
       "      <td>1</td>\n",
       "      <td>0</td>\n",
       "      <td>1</td>\n",
       "      <td>0</td>\n",
       "      <td>1</td>\n",
       "      <td>0</td>\n",
       "      <td>0</td>\n",
       "      <td>4</td>\n",
       "    </tr>\n",
       "    <tr>\n",
       "      <td>13</td>\n",
       "      <td>0</td>\n",
       "      <td>1</td>\n",
       "      <td>1</td>\n",
       "      <td>0</td>\n",
       "      <td>1</td>\n",
       "      <td>0</td>\n",
       "      <td>0</td>\n",
       "      <td>0</td>\n",
       "      <td>3</td>\n",
       "    </tr>\n",
       "    <tr>\n",
       "      <td>14</td>\n",
       "      <td>1</td>\n",
       "      <td>1</td>\n",
       "      <td>0</td>\n",
       "      <td>0</td>\n",
       "      <td>0</td>\n",
       "      <td>0</td>\n",
       "      <td>1</td>\n",
       "      <td>1</td>\n",
       "      <td>4</td>\n",
       "    </tr>\n",
       "    <tr>\n",
       "      <td>15</td>\n",
       "      <td>0</td>\n",
       "      <td>1</td>\n",
       "      <td>0</td>\n",
       "      <td>0</td>\n",
       "      <td>1</td>\n",
       "      <td>0</td>\n",
       "      <td>0</td>\n",
       "      <td>0</td>\n",
       "      <td>2</td>\n",
       "    </tr>\n",
       "    <tr>\n",
       "      <td>16</td>\n",
       "      <td>0</td>\n",
       "      <td>1</td>\n",
       "      <td>1</td>\n",
       "      <td>0</td>\n",
       "      <td>0</td>\n",
       "      <td>0</td>\n",
       "      <td>0</td>\n",
       "      <td>0</td>\n",
       "      <td>2</td>\n",
       "    </tr>\n",
       "    <tr>\n",
       "      <td>17</td>\n",
       "      <td>0</td>\n",
       "      <td>0</td>\n",
       "      <td>1</td>\n",
       "      <td>0</td>\n",
       "      <td>1</td>\n",
       "      <td>1</td>\n",
       "      <td>0</td>\n",
       "      <td>0</td>\n",
       "      <td>3</td>\n",
       "    </tr>\n",
       "    <tr>\n",
       "      <td>18</td>\n",
       "      <td>0</td>\n",
       "      <td>0</td>\n",
       "      <td>1</td>\n",
       "      <td>1</td>\n",
       "      <td>1</td>\n",
       "      <td>0</td>\n",
       "      <td>0</td>\n",
       "      <td>1</td>\n",
       "      <td>4</td>\n",
       "    </tr>\n",
       "    <tr>\n",
       "      <td>19</td>\n",
       "      <td>1</td>\n",
       "      <td>1</td>\n",
       "      <td>0</td>\n",
       "      <td>0</td>\n",
       "      <td>0</td>\n",
       "      <td>1</td>\n",
       "      <td>0</td>\n",
       "      <td>1</td>\n",
       "      <td>4</td>\n",
       "    </tr>\n",
       "    <tr>\n",
       "      <td>20</td>\n",
       "      <td>1</td>\n",
       "      <td>1</td>\n",
       "      <td>0</td>\n",
       "      <td>1</td>\n",
       "      <td>1</td>\n",
       "      <td>1</td>\n",
       "      <td>1</td>\n",
       "      <td>0</td>\n",
       "      <td>6</td>\n",
       "    </tr>\n",
       "    <tr>\n",
       "      <td>21</td>\n",
       "      <td>1</td>\n",
       "      <td>0</td>\n",
       "      <td>1</td>\n",
       "      <td>1</td>\n",
       "      <td>1</td>\n",
       "      <td>0</td>\n",
       "      <td>1</td>\n",
       "      <td>1</td>\n",
       "      <td>6</td>\n",
       "    </tr>\n",
       "    <tr>\n",
       "      <td>22</td>\n",
       "      <td>0</td>\n",
       "      <td>1</td>\n",
       "      <td>0</td>\n",
       "      <td>1</td>\n",
       "      <td>0</td>\n",
       "      <td>0</td>\n",
       "      <td>1</td>\n",
       "      <td>1</td>\n",
       "      <td>4</td>\n",
       "    </tr>\n",
       "    <tr>\n",
       "      <td>23</td>\n",
       "      <td>1</td>\n",
       "      <td>0</td>\n",
       "      <td>0</td>\n",
       "      <td>1</td>\n",
       "      <td>0</td>\n",
       "      <td>0</td>\n",
       "      <td>0</td>\n",
       "      <td>0</td>\n",
       "      <td>2</td>\n",
       "    </tr>\n",
       "    <tr>\n",
       "      <td>24</td>\n",
       "      <td>1</td>\n",
       "      <td>0</td>\n",
       "      <td>0</td>\n",
       "      <td>0</td>\n",
       "      <td>1</td>\n",
       "      <td>0</td>\n",
       "      <td>0</td>\n",
       "      <td>0</td>\n",
       "      <td>2</td>\n",
       "    </tr>\n",
       "    <tr>\n",
       "      <td>25</td>\n",
       "      <td>1</td>\n",
       "      <td>0</td>\n",
       "      <td>0</td>\n",
       "      <td>1</td>\n",
       "      <td>0</td>\n",
       "      <td>1</td>\n",
       "      <td>0</td>\n",
       "      <td>0</td>\n",
       "      <td>3</td>\n",
       "    </tr>\n",
       "    <tr>\n",
       "      <td>26</td>\n",
       "      <td>0</td>\n",
       "      <td>1</td>\n",
       "      <td>0</td>\n",
       "      <td>1</td>\n",
       "      <td>0</td>\n",
       "      <td>0</td>\n",
       "      <td>1</td>\n",
       "      <td>0</td>\n",
       "      <td>3</td>\n",
       "    </tr>\n",
       "    <tr>\n",
       "      <td>27</td>\n",
       "      <td>1</td>\n",
       "      <td>0</td>\n",
       "      <td>0</td>\n",
       "      <td>0</td>\n",
       "      <td>0</td>\n",
       "      <td>1</td>\n",
       "      <td>1</td>\n",
       "      <td>0</td>\n",
       "      <td>3</td>\n",
       "    </tr>\n",
       "    <tr>\n",
       "      <td>28</td>\n",
       "      <td>0</td>\n",
       "      <td>0</td>\n",
       "      <td>1</td>\n",
       "      <td>0</td>\n",
       "      <td>0</td>\n",
       "      <td>1</td>\n",
       "      <td>0</td>\n",
       "      <td>1</td>\n",
       "      <td>3</td>\n",
       "    </tr>\n",
       "    <tr>\n",
       "      <td>29</td>\n",
       "      <td>0</td>\n",
       "      <td>0</td>\n",
       "      <td>1</td>\n",
       "      <td>1</td>\n",
       "      <td>1</td>\n",
       "      <td>0</td>\n",
       "      <td>1</td>\n",
       "      <td>1</td>\n",
       "      <td>5</td>\n",
       "    </tr>\n",
       "  </tbody>\n",
       "</table>\n",
       "</div>"
      ],
      "text/plain": [
       "    x1  x2  x3  x4  x5  x6  x7  x8  y\n",
       "0    1   1   1   0   0   0   1   0  4\n",
       "1    0   0   1   0   0   1   1   0  3\n",
       "2    0   0   0   0   0   0   1   0  1\n",
       "3    0   1   0   1   1   0   0   1  4\n",
       "4    0   1   0   0   0   0   1   0  2\n",
       "5    0   0   1   1   0   0   0   1  3\n",
       "6    0   1   1   1   0   0   1   0  4\n",
       "7    0   1   0   1   0   1   0   0  3\n",
       "8    0   0   1   1   0   0   1   1  4\n",
       "9    1   0   1   1   0   1   1   0  5\n",
       "10   0   1   1   0   0   1   0   0  3\n",
       "11   0   0   0   0   0   1   0   0  1\n",
       "12   1   1   0   1   0   1   0   0  4\n",
       "13   0   1   1   0   1   0   0   0  3\n",
       "14   1   1   0   0   0   0   1   1  4\n",
       "15   0   1   0   0   1   0   0   0  2\n",
       "16   0   1   1   0   0   0   0   0  2\n",
       "17   0   0   1   0   1   1   0   0  3\n",
       "18   0   0   1   1   1   0   0   1  4\n",
       "19   1   1   0   0   0   1   0   1  4\n",
       "20   1   1   0   1   1   1   1   0  6\n",
       "21   1   0   1   1   1   0   1   1  6\n",
       "22   0   1   0   1   0   0   1   1  4\n",
       "23   1   0   0   1   0   0   0   0  2\n",
       "24   1   0   0   0   1   0   0   0  2\n",
       "25   1   0   0   1   0   1   0   0  3\n",
       "26   0   1   0   1   0   0   1   0  3\n",
       "27   1   0   0   0   0   1   1   0  3\n",
       "28   0   0   1   0   0   1   0   1  3\n",
       "29   0   0   1   1   1   0   1   1  5"
      ]
     },
     "execution_count": 4,
     "metadata": {},
     "output_type": "execute_result"
    }
   ],
   "source": [
    "df = pd.DataFrame(np.random.randint(0, 2, size=(30, 8)), columns=['x1', 'x2', 'x3', 'x4', 'x5', 'x6', 'x7', 'x8'])\n",
    "df['y'] = df.sum(axis=1)\n",
    "df"
   ]
  },
  {
   "cell_type": "markdown",
   "metadata": {},
   "source": [
    "## Adder with the Elman Recurrent Neural Network\n",
    "\n",
    "We'll build an Elman Recurrent Neural Network to predict the sum of 8 bits. We have one neuron that has two inputs : the input bit $x_{n}$ and the previous output $f_{t-1}$.\n",
    "\n",
    "As we want to have a linear model, the activation function will be the identity, and we don't need a bias.\n",
    "\n",
    "<img src=\"archi.png\">"
   ]
  },
  {
   "cell_type": "code",
   "execution_count": 80,
   "metadata": {},
   "outputs": [],
   "source": [
    "class RNNAdder():\n",
    "    \n",
    "    def __init__(self):\n",
    "        # Our two weights initialized randomly between -1 and 1\n",
    "        self.Vx = np.random.normal(1.0, 0.5)\n",
    "        self.Vf = np.random.normal(1.0, 0.5)\n",
    "        \n",
    "        # Learning rates\n",
    "        self.lr_x = 0.001\n",
    "        self.lr_f = 0.001\n",
    "        \n",
    "        # Number of features\n",
    "        self.T = 0\n",
    "        \n",
    "        # Neuron output matrix\n",
    "        self.f = None\n",
    "        \n",
    "        # Error\n",
    "        self.err = []\n",
    "        \n",
    "        # Historic of weights\n",
    "        self.hist_Vx = [self.Vx]\n",
    "        self.hist_Vf = [self.Vf]\n",
    "        \n",
    "        # Historic of gradients\n",
    "        self.hist_dVx = []\n",
    "        self.hist_dVf = []\n",
    "    \n",
    "    def forward(self, X):\n",
    "        self.f = np.zeros((X.shape[0], X.shape[1] + 1))\n",
    "        \n",
    "        for t in range(self.T):\n",
    "            self.f[:, t + 1] = self.Vf * self.f[:, t] + self.Vx * X[:, t]\n",
    "        \n",
    "        return self.f[:, -1]\n",
    "    \n",
    "    def compute_sse(self, y_hat, y):\n",
    "        sse = 0.5 * np.sum(np.square(y_hat - y))\n",
    "        return sse\n",
    "    \n",
    "    def compute_mae(self, y_hat, y):\n",
    "        mae = np.sum(np.absolute(y_hat - y)) / y_hat.shape[0]\n",
    "        return mae\n",
    "    \n",
    "    def backward(self, X, y, y_hat):\n",
    "        dVx = 0\n",
    "        dVf = 0\n",
    "        \n",
    "        for t in range(self.T):\n",
    "            dVx += (np.sum((y_hat - y) * X[:, t]) * (self.Vf ** (self.T - t)))\n",
    "            dVf += (np.sum((y_hat - y) * self.f[:, t - 1]) * (self.Vf ** (self.T - t)))\n",
    "            \n",
    "        self.Vx -= (self.lr_x * dVx)\n",
    "        self.Vf -= (self.lr_f * dVf)\n",
    "        \n",
    "        self.hist_Vx.append(self.Vx)\n",
    "        self.hist_Vf.append(self.Vf)\n",
    "        \n",
    "        self.hist_dVx.append(dVx)\n",
    "        self.hist_dVf.append(dVf)\n",
    "        \n",
    "    def plot_hist(self):\n",
    "        plt.plot([i for i in range(len(self.err))], self.err)\n",
    "        plt.title('SSE')\n",
    "        plt.show()\n",
    "        plt.plot([i for i in range(len(self.hist_Vx))], self.hist_Vx)\n",
    "        plt.plot([i for i in range(len(self.hist_Vf))], self.hist_Vf)\n",
    "        plt.title('Weights')\n",
    "        plt.show()\n",
    "        plt.plot([i for i in range(len(self.hist_dVx))], self.hist_dVx)\n",
    "        plt.plot([i for i in range(len(self.hist_dVf))], self.hist_dVf)\n",
    "        plt.title('Gradients')\n",
    "        plt.show()\n",
    "    \n",
    "    def fit(self, X, y, nb_epoch=50):\n",
    "        self.T = X.shape[1]\n",
    "        \n",
    "        for k in range(nb_epoch):\n",
    "            y_hat = self.forward(X)\n",
    "\n",
    "            self.err.append(self.compute_sse(y_hat, y))\n",
    "\n",
    "            self.backward(X, y, y_hat)\n",
    "            \n",
    "        self.plot_hist()\n",
    "        \n",
    "    def predict(self, X, y):\n",
    "        # Compute prediction\n",
    "        y_hat = self.forward(X)\n",
    "        \n",
    "        # Compute Mean Absolute Error\n",
    "        mae = self.compute_mae(y_hat, y)\n",
    "        \n",
    "        # Print results\n",
    "        for i in range(X.shape[0]):\n",
    "            print('Seq:', X[i], '| y =', y[i], '| y_hat =', y_hat[i])\n",
    "        print('MAE =', mae)"
   ]
  },
  {
   "cell_type": "code",
   "execution_count": 81,
   "metadata": {},
   "outputs": [
    {
     "name": "stdout",
     "output_type": "stream",
     "text": [
      "1.2075125788547465 1.3845275946675952\n"
     ]
    },
    {
     "name": "stderr",
     "output_type": "stream",
     "text": [
      "c:\\users\\maxim\\appdata\\local\\programs\\python\\python37\\lib\\site-packages\\ipykernel_launcher.py:34: RuntimeWarning: overflow encountered in multiply\n",
      "c:\\users\\maxim\\appdata\\local\\programs\\python\\python37\\lib\\site-packages\\ipykernel_launcher.py:39: RuntimeWarning: overflow encountered in square\n",
      "c:\\users\\maxim\\appdata\\local\\programs\\python\\python37\\lib\\site-packages\\ipykernel_launcher.py:51: RuntimeWarning: overflow encountered in double_scalars\n",
      "c:\\users\\maxim\\appdata\\local\\programs\\python\\python37\\lib\\site-packages\\ipykernel_launcher.py:52: RuntimeWarning: overflow encountered in multiply\n",
      "c:\\users\\maxim\\appdata\\local\\programs\\python\\python37\\lib\\site-packages\\ipykernel_launcher.py:52: RuntimeWarning: overflow encountered in double_scalars\n",
      "c:\\users\\maxim\\appdata\\local\\programs\\python\\python37\\lib\\site-packages\\ipykernel_launcher.py:51: RuntimeWarning: invalid value encountered in multiply\n",
      "c:\\users\\maxim\\appdata\\local\\programs\\python\\python37\\lib\\site-packages\\ipykernel_launcher.py:52: RuntimeWarning: invalid value encountered in multiply\n"
     ]
    },
    {
     "data": {
      "image/png": "[encoded data removed]",
      "text/plain": [
       "<Figure size 432x288 with 1 Axes>"
      ]
     },
     "metadata": {
      "needs_background": "light"
     },
     "output_type": "display_data"
    },
    {
     "data": {
      "image/png": "[encoded data removed]",
      "text/plain": [
       "<Figure size 432x288 with 1 Axes>"
      ]
     },
     "metadata": {
      "needs_background": "light"
     },
     "output_type": "display_data"
    },
    {
     "data": {
      "image/png": "[encoded data removed]",
      "text/plain": [
       "<Figure size 432x288 with 1 Axes>"
      ]
     },
     "metadata": {
      "needs_background": "light"
     },
     "output_type": "display_data"
    }
   ],
   "source": [
    "X, y = df.drop(columns='y').values, df['y'].values\n",
    "train_X, test_X, train_y, test_y = X[:25], X[25:], y[:25], y[25:]\n",
    "\n",
    "\n",
    "model = RNNAdder()\n",
    "model.fit(train_X, train_y, nb_epoch=100)"
   ]
  },
  {
   "cell_type": "code",
   "execution_count": 73,
   "metadata": {},
   "outputs": [
    {
     "name": "stdout",
     "output_type": "stream",
     "text": [
      "Seq: [1 0 0 1 0 1 0 0] | y = 3 | y_hat = nan\n",
      "Seq: [0 1 0 1 0 0 1 0] | y = 3 | y_hat = nan\n",
      "Seq: [1 0 0 0 0 1 1 0] | y = 3 | y_hat = nan\n",
      "Seq: [0 0 1 0 0 1 0 1] | y = 3 | y_hat = nan\n",
      "Seq: [0 0 1 1 1 0 1 1] | y = 5 | y_hat = nan\n",
      "MAE = nan\n"
     ]
    }
   ],
   "source": [
    "model.predict(test_X, test_y)"
   ]
  },
  {
   "cell_type": "code",
   "execution_count": 82,
   "metadata": {},
   "outputs": [
    {
     "name": "stdout",
     "output_type": "stream",
     "text": [
      "[1.3845275946675952, -116.0960094652268, -1.1346484990746286e+45, nan, nan, nan, nan, nan, nan, nan]\n",
      "[1.2075125788547465, -6.908306682895894, -5.777882278424877e+29, nan, nan, nan, nan, nan, nan, nan]\n"
     ]
    }
   ],
   "source": [
    "print(model.hist_Vf[:10])\n",
    "print(model.hist_Vx[:10])"
   ]
  },
  {
   "cell_type": "code",
   "execution_count": 83,
   "metadata": {},
   "outputs": [
    {
     "name": "stdout",
     "output_type": "stream",
     "text": [
      "[117480.53705989438, 1.1346484990746286e+48, nan, nan, nan, nan, nan, nan, nan, nan]\n",
      "[8115.819261750641, 5.777882278424877e+32, nan, nan, nan, nan, nan, nan, nan, nan]\n"
     ]
    }
   ],
   "source": [
    "print(model.hist_dVf[:10])\n",
    "print(model.hist_dVx[:10])"
   ]
  },
  {
   "cell_type": "markdown",
   "metadata": {},
   "source": [
    "Looking at the gradients, we can observe the exploding gradients problem. To avoid it, let's try to implement two other backpropagation algorithm.\n",
    "## Resilient backpropagation"
   ]
  },
  {
   "cell_type": "code",
   "execution_count": 95,
   "metadata": {},
   "outputs": [],
   "source": [
    "class ResilientRNNAdder(RNNAdder):\n",
    "    \n",
    "    def __init__(self):\n",
    "        RNNAdder.__init__(self)\n",
    "        \n",
    "        # Delta weights\n",
    "        self.delta_x = 0.001\n",
    "        self.delta_f = 0.001\n",
    "        \n",
    "        # Learning rate factors\n",
    "        self.eta_p = 1.2\n",
    "        self.eta_n = 0.5\n",
    "        \n",
    "    def find_lr_factor(self, grad, prev_grads):\n",
    "        # If the list is empty (first iteration)\n",
    "        if not prev_grads:\n",
    "            return 1\n",
    "        else:\n",
    "            if grad * prev_grads[-1] > 0:\n",
    "                return self.eta_p\n",
    "            else:\n",
    "                return self.eta_n\n",
    "        \n",
    "    def resilient_backward(self, X, y, y_hat):\n",
    "        dVx = 0\n",
    "        dVf = 0\n",
    "        \n",
    "        # Compute the same gradients\n",
    "        for t in range(self.T):\n",
    "            dVx += (np.sum((y_hat - y) * X[:, t]) * (self.Vf ** (self.T - t)))\n",
    "            dVf += (np.sum((y_hat - y) * self.f[:, t - 1]) * (self.Vf ** (self.T - t)))\n",
    "            \n",
    "        # Update the deltas\n",
    "        self.delta_x *= self.find_lr_factor(dVx, self.hist_dVx)\n",
    "        self.delta_f *= self.find_lr_factor(dVf, self.hist_dVf)\n",
    "        \n",
    "        # Update the weights\n",
    "        self.Vx -= (np.sign(dVx) * self.delta_x)\n",
    "        self.Vf -= (np.sign(dVf) * self.delta_f)\n",
    "        \n",
    "        self.hist_Vx.append(self.Vx)\n",
    "        self.hist_Vf.append(self.Vf)\n",
    "        \n",
    "        self.hist_dVx.append(dVx)\n",
    "        self.hist_dVf.append(dVf)\n",
    "        \n",
    "    def fit(self, X, y, nb_epoch=50):\n",
    "        self.T = X.shape[1]\n",
    "        \n",
    "        for k in range(nb_epoch):\n",
    "            y_hat = self.forward(X)\n",
    "\n",
    "            self.err.append(self.compute_sse(y_hat, y))\n",
    "\n",
    "            self.resilient_backward(X, y, y_hat)\n",
    "            \n",
    "        self.plot_hist()"
   ]
  },
  {
   "cell_type": "code",
   "execution_count": 100,
   "metadata": {},
   "outputs": [
    {
     "name": "stdout",
     "output_type": "stream",
     "text": [
      "1.0059413728057114 0.2696028500945402\n"
     ]
    },
    {
     "data": {
      "image/png": "[encoded data removed]",
      "text/plain": [
       "<Figure size 432x288 with 1 Axes>"
      ]
     },
     "metadata": {
      "needs_background": "light"
     },
     "output_type": "display_data"
    },
    {
     "data": {
      "image/png": "[encoded data removed]",
      "text/plain": [
       "<Figure size 432x288 with 1 Axes>"
      ]
     },
     "metadata": {
      "needs_background": "light"
     },
     "output_type": "display_data"
    },
    {
     "data": {
      "image/png": "[encoded data removed]",
      "text/plain": [
       "<Figure size 432x288 with 1 Axes>"
      ]
     },
     "metadata": {
      "needs_background": "light"
     },
     "output_type": "display_data"
    }
   ],
   "source": [
    "model = ResilientRNNAdder()\n",
    "model.fit(train_X, train_y, nb_epoch=500)"
   ]
  },
  {
   "cell_type": "code",
   "execution_count": 101,
   "metadata": {},
   "outputs": [
    {
     "name": "stdout",
     "output_type": "stream",
     "text": [
      "[0.9978409453954652, 0.9978735155811, 0.9979125998038618, 0.997959500871176, 0.997936050337519, 0.9979477756043476, 0.9979618459245418, 0.9979787303087749, 0.9979989915698546, 0.9980233050831503, 0.9980524812991051, 0.9980874927582508, 0.9981295065092257, 0.9981084996337383, 0.998119003071482, 0.9981316071967745, 0.9981467321471255, 0.9981648820875466, 0.998186662016052, 0.9982127979302584, 0.9982441610273062, 0.9982284794787823, 0.9982363202530443, 0.9982457291821586, 0.9982570198970958, 0.9982705687550204, 0.99828682738453, 0.9983063377399415, 0.9983297501664352, 0.9983578450782278]\n",
      "[1.0080734670054217, 1.0079952985598981, 1.0079014964252697, 1.0077889338637158, 1.0076538587898511, 1.0074917687012135, 1.0075728137455324, 1.007532291223373, 1.0074836641967817, 1.0074253117648722, 1.0073552888465807, 1.0072712613446309, 1.007170428342291, 1.0070494287394833, 1.006904229216114, 1.0069768289777987, 1.0069405290969564, 1.0068969692399456, 1.0068446974115328, 1.0067819712174373, 1.0067066997845227, 1.0066163740650251, 1.0065079832016282, 1.0063779141655518, 1.00644294868359, 1.0064104314245708, 1.0063714107137478, 1.0063245858607603, 1.0062683960371752, 1.006200968248873]\n"
     ]
    }
   ],
   "source": [
    "print(model.hist_Vf[-30:])\n",
    "print(model.hist_Vx[-30:])"
   ]
  },
  {
   "cell_type": "code",
   "execution_count": 102,
   "metadata": {},
   "outputs": [
    {
     "name": "stdout",
     "output_type": "stream",
     "text": [
      "Seq: [1 0 0 1 0 1 0 0] | y = 3 | y_hat = 2.9971983139466354\n",
      "Seq: [0 1 0 1 0 0 1 0] | y = 3 | y_hat = 3.000484062618909\n",
      "Seq: [1 0 0 0 0 1 1 0] | y = 3 | y_hat = 3.0021390650108652\n",
      "Seq: [0 0 1 0 0 1 0 1] | y = 3 | y_hat = 3.007066342461398\n",
      "Seq: [0 0 1 1 1 0 1 1] | y = 5 | y_hat = 5.009575936611731\n",
      "MAE = 0.004413418551253568\n"
     ]
    }
   ],
   "source": [
    "model.predict(test_X, test_y)"
   ]
  }
 ],
 "metadata": {
  "kernelspec": {
   "display_name": "Python 3",
   "language": "python",
   "name": "python3"
  },
  "language_info": {
   "codemirror_mode": {
    "name": "ipython",
    "version": 3
   },
   "file_extension": ".py",
   "mimetype": "text/x-python",
   "name": "python",
   "nbconvert_exporter": "python",
   "pygments_lexer": "ipython3",
   "version": "3.7.4"
  }
 },
 "nbformat": 4,
 "nbformat_minor": 2
}
